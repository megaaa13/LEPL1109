{
 "cells": [
  {
   "cell_type": "markdown",
   "metadata": {},
   "source": [
    "<font size=6  color=#003366> <b>[LEPL1109] - STATISTICS AND DATA SCIENCES</b> <br><br> \n",
    "<b>Hackathon 03 - Classification: AirQuality</b> </font> <br><br><br>\n",
    "\n",
    "<font size=5  color=#003366>\n",
    "Prof. D. Hainaut<br>\n",
    "Prof. L. Jacques<br>\n",
    "\n",
    "<br><br>\n",
    "Anne-Sophie Collin   (anne-sophie.collin@uclouvain.be)<br>\n",
    "Guillaume Van Dessel (guillaume.vandessel@uclouvain.be)<br>\n",
    "Jérome Eertmans (jerome.eertmans@uclouvain.be)<br>\n",
    "Maxime Zanella (maxime.zanella@uclouvain.be)<br>\n",
    "Florine Thiry (florine.thiry@uclouvain.be)<br>\n",
    "Baptiste Standaert (baptiste.standaert@uclouvain.be)<br>\n",
    "Antoine Legat (antoine.legat@uclouvain.be)<br>\n",
    "<div style=\"text-align: right\"> Version 2022</div>\n",
    "\n",
    "<br><br>\n",
    "</font>"
   ]
  },
  {
   "cell_type": "markdown",
   "metadata": {},
   "source": [
    "<font size=5 color=#009999> <b>GUIDELINES & DELIVERABLES</b> </font> <br>\n",
    "-  This assignment is due on the <b>9 December 2022 at 22h00</b>.\n",
    "-  Copying code or answers from other groups (or from the internet) is strictly forbidden. <b>Each source of inspiration (stack overflow, git, other groups,...) must be clearly indicated!</b>\n",
    "-  This notebook (with the \"ipynb\" extension) file, the report (PDF format) and all other files that are necessary to run your code must be delivered on <b>Moodle</b>.\n",
    "- Only the PDF report will be graded on content and quality of the text / figures. <br><br>\n",
    "\n",
    "<div class=\"alert alert-danger\">\n",
    "<b>[DELIVERABLE] Summary</b>  <br>\n",
    "After the reading of this document (and playing with the code!), we expect you to provide us with:\n",
    "<ol>\n",
    "   <li> a PDF file (written in LaTeX, see example on Moodle) that answers all the questions below. The report should contain high quality figures with named axes (we recommend saving plots with the <samp>.pdf</samp> extension);\n",
    "   <li> this Jupyter Notebook (it will not be read, just checked for plagiarism);\n",
    "   <li> and all other files (not the datasets!) we would need to run your code.\n",
    "</ol>\n",
    "</div>\n",
    "\n",
    "<font size=5 color=#009999> <b>CONTEXT & OBJECTIVE </b> </font> <br>\n",
    "    \n",
    "\n",
    "### Context\n",
    "\n",
    "The air in cities is polluted by human activities. Vehicular emissions, heating systems, industries... You probably remember those times when the air is so polluted that it is recommended to stay at home, and not do too much sport outside. It is often related to specific weather conditions (e.g. not enough wind to blow air pollution away).\n",
    "\n",
    "Besides, one could wonder: is it healthy to go running in a city? Do the benefits of sport balance the fact that you are breathing polluted air? Studies show that the answer is yes, as long as you avoid busy roads with dense traffic.\n",
    "\n",
    "Air quality is a crucial issue in our modern society, and its effect is poorly anchored in common knowledge. As engineers of tomorrow, you must be aware of the impact of thermic engines and industries on human health.\n",
    "\n",
    "![](https://api.brusselstimes.com/wp-content/uploads/2022/01/763-45.jpeg)\n",
    "\n",
    "In this hackathon, we will learn to quantify air quality. Wikipedia says that smog (or smoke fog) is composed of nitrogen oxides, sulfur oxide, ozone, smoke and other particulates. How to quantify from those different features?\n",
    "\n",
    "People use the Air Quality Index (AQI). This is a natural number running from 0 to 500+, the lower the better. AQI accounts for the concentration of important pollutants and particles. We usually distinguish 6 classes of air quality, from good to severe (see table below). In this hackathon, we will classify the AQI between only 2 classes: good or bad.\n",
    "\n",
    "\n",
    "![](https://i.imgur.com/XmnE0rT.png)\n",
    " \n",
    "\n",
    "\n",
    "### Objectives\n",
    "\n",
    "The project aims to train a binary classifier to estimate the air quality index (AQI) based on the air concentration of certain pollutants. Note that the AQI is initially defined as a natural number between 0 and 500+. However, to better address the problem, we propose to classify the air quality as poor (labeled 0) or good (labeled 1). The next part of the document will guide you in this process.  \n",
    "\n",
    "### Notebook structure\n",
    "This notebook is organized into four parts. Each of them assesses one fundamental step to solve our problem and provides one visualization tool to gain some understanding:\n",
    "* PART 1 - PREPROCESSING\n",
    "   - 1.1 - Import the dataset\n",
    "   - 1.2 - Split the dataset\n",
    "    <br><br>\n",
    "* PART 2 - EXPLORATORY DATA ANALYSIS \n",
    "   - 2.1 - Binary targets\n",
    "   - 2.2 - Cyclical features\n",
    "   - 2.3 - Correlation matrix\n",
    "   - 2.4 - Features selection\n",
    "   - 2.5 - Data scaling and normalization\n",
    "    <br><br>\n",
    "* PART 3 - MODEL SELECTION\n",
    "   - 3.1 - Precision, recall and F1-score\n",
    "   - 3.2 - Model evaluation\n",
    "   - 3.3 - Model selection and parameters tuning\n",
    "   - 3.4 - Precision-Recall curve and thresholding\n",
    "   <br><br>\n",
    "* PART 4 - MODEL TESTING\n",
    "   - 4.1 - Error computation on the test set\n",
    "   \n",
    "We filled this notebook with preliminary (trivial) code. This practice makes possible to run each cell, even the last ones, without throwing warnings. <br><b>Take advantage of this aspect to divide the work between all team members!</b> <br><br> "
   ]
  },
  {
   "cell_type": "code",
   "execution_count": 18,
   "metadata": {},
   "outputs": [],
   "source": [
    "## warnings off\n",
    "import warnings\n",
    "warnings.filterwarnings(\"ignore\")"
   ]
  },
  {
   "cell_type": "markdown",
   "metadata": {},
   "source": [
    "<br><font size=7 color=#009999> <b>PART 1 - DATA LOADING</b> </font> <br><br>"
   ]
  },
  {
   "cell_type": "markdown",
   "metadata": {},
   "source": [
    "<font size=4 color=#009999> <br> 1.0/1 DISCOVER THE DATASET </font> <br>\n",
    "\n",
    "**Import** `gas_measurements.csv` using `read_csv` [<sup>1</sup>](#fn1) from pandas and **obtain** a brief description of the data (size, variables type, missing values, etc.).  \n",
    "\n",
    "\n",
    "\n",
    "<span id=\"fn1\"> [1] N.B : the separator in the csv file is ',' and not the default comma (see the *`sep`* argument).</span>"
   ]
  },
  {
   "cell_type": "markdown",
   "metadata": {},
   "source": [
    "<div class=\"alert alert-warning\">\n",
    "    <b>[Question 1.0]</b> Describe, briefly, your dataset (size, variables type, missing values, etc.).<br>\n",
    "</div> "
   ]
  },
  {
   "cell_type": "code",
   "execution_count": 19,
   "metadata": {
    "scrolled": false
   },
   "outputs": [
    {
     "name": "stdout",
     "output_type": "stream",
     "text": [
      "Dataframe shape:  (44769, 10)\n",
      "Dataframe null values:  51768\n",
      "Dataframe null values per column: \n",
      "BigUrbanCity        0\n",
      "PM10              460\n",
      "PM2_5            1229\n",
      "SO2             23169\n",
      "NOx              2270\n",
      "NH3             22997\n",
      "CO                955\n",
      "O3                688\n",
      "Datetime            0\n",
      "AQI                 0\n",
      "dtype: int64\n",
      "\n",
      "Dataframe max values per column: (when relevent)\n",
      "PM10        823.315\n",
      "PM2_5    646.857917\n",
      "SO2       56.579375\n",
      "NOx      355.018235\n",
      "NH3       39.995652\n",
      "CO            40.25\n",
      "O3           199.92\n",
      "dtype: object\n",
      "\n"
     ]
    }
   ],
   "source": [
    "\"\"\"\n",
    "CELL N°1 : Import the dataset using pd.read_csv function \n",
    "\n",
    "@pre: filename 'gas_measurements.csv', located in the same folder as this jupyter\n",
    "@post: variable `df` containing the dataframe\n",
    "\"\"\"\n",
    "\n",
    "import matplotlib.pyplot as plt\n",
    "import numpy as np\n",
    "import pandas as pd\n",
    "\n",
    "data = pd.read_csv(\"gas_measurements.csv\", sep=\",\")\n",
    "data.drop('Unnamed: 0', axis = 1, inplace=True)\n",
    "print(\"Dataframe shape: \", data.shape)\n",
    "print(\"Dataframe null values: \", data.isnull().sum().sum())\n",
    "print(\"Dataframe null values per column: \\n\", data.isnull().sum(), sep=\"\", end=\"\\n\\n\")\n",
    "print(\"Dataframe max values per column: (when relevent)\\n\", data.max().drop([\"Datetime\", \"AQI\", \"BigUrbanCity\"]), sep=\"\", end=\"\\n\\n\")"
   ]
  },
  {
   "cell_type": "markdown",
   "metadata": {},
   "source": [
    "<div class=\"alert alert-warning\">\n",
    "    <b>[Question 1.1]</b> Based on your observations, justify and proceed to the <i>a priori</i> deletion of <b>two</b> troublesome features. \n",
    "</div> \n",
    "\n",
    "<i>HINT</i>: one usually decides of a <i>threshold</i> $\\tau\\in [0,1[$ of the allowed proportion of missing data within a given feature...\n",
    "\n",
    "<b>NOTE</b>: there will remain other features with missing data.. it is not a big deal as soon as the proportion of missing data stays <i>reasonable</i>. In what concerns these features with missing data that are not discarded here, we will proceed with a <i>fill-in</i> operation later on."
   ]
  },
  {
   "cell_type": "code",
   "execution_count": 20,
   "metadata": {},
   "outputs": [
    {
     "name": "stdout",
     "output_type": "stream",
     "text": [
      "We have dropped the column SO2 which have 51.75233% of missing values\n",
      "We have dropped the column NH3 which have 51.36813% of missing values\n"
     ]
    }
   ],
   "source": [
    "tau = 0.5\n",
    "for column in data:\n",
    "    perc = data[column].count() / data[column].size\n",
    "    if perc < tau:\n",
    "        data = data.drop(column, axis = 1)\n",
    "        print(f\"We have dropped the column {column} which have {100-perc*100:0.5f}% of missing values\")"
   ]
  },
  {
   "cell_type": "markdown",
   "metadata": {},
   "source": [
    "<font size=4 color=#009999> <br> 1.2 - SPLIT THE DATASET </font> <br> \n",
    "\n",
    "Data science projects begin by the division the **whole** dataset into a **training** and a **test** set. The subsequent analysis and decisions (i.e. features selection, pre-processing, model selection, etc.) are, then, conducted only on the _training set_ to stay statistically significant during the **testing phase**. The latter will, thus, only be conducted on the _test set_.  \n",
    "\n",
    "We invite you then to **split** [<sup>2</sup>](#fn2) the dataset into a _training_ and a _test_. The proportion of each subset is at **your own discretion**.\n",
    "\n",
    "\n",
    "<span id=\"fn2\"> [2] N.B. Set the seed of your random split with `random_state = 42` to obtain reproducible results.</span>\n",
    "\n",
    "\n",
    "\n",
    "<div class=\"alert alert-warning\">\n",
    "    <b>[Question 1.2]</b> What are the drawbacks (if any) of choosing a small test set (in proportion)? On the contrary, what are the consequences (if any) of a relatively large testing set (in proportion)? <br>\n",
    "</div> "
   ]
  },
  {
   "cell_type": "code",
   "execution_count": 21,
   "metadata": {},
   "outputs": [],
   "source": [
    "\"\"\"\n",
    "CELL N°2 : SPLIT THE DATASET    \n",
    "\n",
    "@pre:  'df' a pandas frame with the entire dataset\n",
    "@post: 2 pandas frames with the train and test sets\n",
    "\"\"\"\n",
    "\n",
    "import sklearn.model_selection\n",
    "from sklearn.model_selection import train_test_split\n",
    "\n",
    "#############################\n",
    "# Start : \n",
    "#############################\n",
    "\n",
    "# @rewrite\n",
    "\n",
    "# size = len(df['target'])\n",
    "# prop = .9\n",
    "# id_split = int(1+prop*size)\n",
    "\n",
    "# data_train, data_test = df[df.index<=id_split],df[df.index>id_split]\n",
    "\n",
    "data_train, data_test = train_test_split(data, test_size=0.33, random_state=42)\n",
    "\n",
    "##########################\n",
    "# \n",
    "#########################"
   ]
  },
  {
   "cell_type": "markdown",
   "metadata": {},
   "source": [
    "<br>\n",
    "\n",
    "<br><font size=7 color=#009999> <b>PART 2 - EXPLORATORY DATA ANALYSIS </b> </font> <br><br>\n",
    "\n",
    "\n",
    "We **analyze** the distribution of the features _AQI_ in the binary scenario. Namely, air quality is considered either <ol> <li>**bad** (AQI : Poor, Very Poor, Severe) </li> <li>**good** (AQI : Good, Satisfactory, Moderate)</li> </ol>\n",
    "\n",
    "We conduct the analysis on the <i>training set</i>, avoiding therefore any modelling decision based on _unseen_ data (<i>test set</i>). In most cases, we assume that the distribution of this latter set stays similar to the <i>training set</i>."
   ]
  },
  {
   "cell_type": "markdown",
   "metadata": {},
   "source": [
    "<font size=4 color=#009999> <br> 2.1. Binary targets  </font> <br>\n",
    "\n",
    "<div class=\"alert alert-warning\">\n",
    "    <b>[Question 2.1]</b> Are the binary classes balanced? What are the proportions of data in each class? Briefly, justify your answer and add a visualization.\n",
    "</div> \n"
   ]
  },
  {
   "cell_type": "code",
   "execution_count": 22,
   "metadata": {},
   "outputs": [
    {
     "data": {
      "image/png": "[encoded data removed]",
      "text/plain": [
       "<Figure size 640x480 with 1 Axes>"
      ]
     },
     "metadata": {},
     "output_type": "display_data"
    }
   ],
   "source": [
    "\"\"\"\n",
    "CELL N°3 : Binary targets: proportion and binarization\n",
    "   \n",
    "@pre:  Training dataframe  \n",
    "@post: Proportion of each binary class in this train set, a pie chart representing it, \n",
    "a modified training dataframe with a new column 'AQI_binary' continaining the binary targets \n",
    "\"\"\"\n",
    "\n",
    "#############################\n",
    "# Start :\n",
    "#############################\n",
    "\n",
    "binary_train =np.where((data_train[\"AQI\"] == \"Poor\") | (data_train[\"AQI\"] == \"Very Poor\") | (data_train[\"AQI\"] == \"Severe\"), 0, 1)\n",
    "binary_test =np.where((data_test[\"AQI\"] == \"Poor\") | (data_test[\"AQI\"] == \"Very Poor\") | (data_test[\"AQI\"] == \"Severe\"), 0, 1)\n",
    "\n",
    "data_train.insert(len(data_train.columns), \"AQI_binary\", binary_train, False)\n",
    "data_test.insert(len(data_test.columns), \"AQI_binary\", binary_test, False)\n",
    "\n",
    "labels = ['Bad Air Quality', 'Good Air Quality']\n",
    "sizes = [len(data_train[data_train[\"AQI_binary\"] == 0]), len(data_train[data_train[\"AQI_binary\"] == 1])]\n",
    "data_train.drop('AQI', axis=1, inplace = True)\n",
    "data_test.drop('AQI', axis=1, inplace = True)\n",
    "\n",
    "# Plot\n",
    "plt.pie(sizes, labels=labels, autopct='%1.1f%%', startangle=140, colors=['darkcyan', 'mediumseagreen'], explode=(0.1, 0), shadow=True)\n",
    "plt.title(\"Binary distribution of Air Quality\")\n",
    "plt.legend()\n",
    "plt.axis('equal')\n",
    "plt.show()\n",
    "\n",
    "##########################\n",
    "# End : \n",
    "#########################"
   ]
  },
  {
   "cell_type": "markdown",
   "metadata": {},
   "source": [
    "<font size=4 color=#009999> 2.2. Cyclical features </font> <br>\n",
    "\n",
    "<b>Establish</b> a <i>cyclical</i> feature transformation and store the new features in the corresponding variables. \n",
    "\n",
    "<span id=\"fn3\"> Many features are cyclical in nature. One example is time: months, days, weekdays, hours, minutes, seconds etc. are all cyclical.</span> "
   ]
  },
  {
   "cell_type": "markdown",
   "metadata": {},
   "source": [
    "<div class=\"alert alert-warning\">\n",
    "    <b>[Question 2.2]</b> Explain your transformation and the need to use cyclical features in some cases. What is the point to not simply encode features in a categorical way (e.g. morning=0, afternoon=1, evening=2, night=3)? \n",
    "</div>  \n",
    "\n",
    "<i>HINT</i>: what happens between 23:00:00 and 00:00:00 ?"
   ]
  },
  {
   "cell_type": "code",
   "execution_count": 23,
   "metadata": {},
   "outputs": [
    {
     "data": {
      "image/png": "[encoded data removed]",
      "text/plain": [
       "<Figure size 640x480 with 1 Axes>"
      ]
     },
     "metadata": {},
     "output_type": "display_data"
    },
    {
     "data": {
      "image/png": "[encoded data removed]",
      "text/plain": [
       "<Figure size 640x480 with 2 Axes>"
      ]
     },
     "metadata": {},
     "output_type": "display_data"
    },
    {
     "data": {
      "image/png": "[encoded data removed]",
      "text/plain": [
       "<Figure size 640x480 with 1 Axes>"
      ]
     },
     "metadata": {},
     "output_type": "display_data"
    }
   ],
   "source": [
    "\"\"\"\n",
    "HINT CELL : This cell is intended to help you understand CELL N°4 (bis) and to answer the corresponding questions. \n",
    "Observe how the final plot looks like a clock ;)\n",
    "\"\"\"\n",
    "\n",
    "hours = [i for i in range(24)]*2\n",
    "plt.scatter(np.arange(len(hours)),hours,label='data points')\n",
    "plt.plot(np.arange(len(hours)),hours,color='red')\n",
    "plt.grid()\n",
    "plt.title('Visualization')\n",
    "plt.legend()\n",
    "plt.ylabel('hour of the corresponding day')\n",
    "plt.xlabel('cumulative hour')\n",
    "plt.show()\n",
    "\n",
    "\n",
    "sin_hours = np.sin(2 * np.pi * np.array(hours)/24.0)\n",
    "cos_hours = np.cos(2 * np.pi * np.array(hours)/24.0)\n",
    "\n",
    "plt.subplot(2,2,1)\n",
    "plt.plot(hours[0:24], sin_hours[0:24])\n",
    "plt.title('sinus component')\n",
    "plt.subplot(2,2,2)\n",
    "plt.plot(hours[0:24], cos_hours[0:24])\n",
    "plt.title('cosinus component')\n",
    "\n",
    "ax, fig = plt.subplots()\n",
    "fig.set_aspect('equal')\n",
    "plt.xlabel('sin_hour')\n",
    "plt.ylabel('cos_hour')\n",
    "plt.scatter(sin_hours[0:24], cos_hours[0:24])\n",
    "plt.show()\n"
   ]
  },
  {
   "cell_type": "code",
   "execution_count": 24,
   "metadata": {},
   "outputs": [
    {
     "data": {
      "text/html": [
       "<div>\n",
       "<style scoped>\n",
       "    .dataframe tbody tr th:only-of-type {\n",
       "        vertical-align: middle;\n",
       "    }\n",
       "\n",
       "    .dataframe tbody tr th {\n",
       "        vertical-align: top;\n",
       "    }\n",
       "\n",
       "    .dataframe thead th {\n",
       "        text-align: right;\n",
       "    }\n",
       "</style>\n",
       "<table border=\"1\" class=\"dataframe\">\n",
       "  <thead>\n",
       "    <tr style=\"text-align: right;\">\n",
       "      <th></th>\n",
       "      <th>BigUrbanCity</th>\n",
       "      <th>PM10</th>\n",
       "      <th>PM2_5</th>\n",
       "      <th>NOx</th>\n",
       "      <th>CO</th>\n",
       "      <th>O3</th>\n",
       "      <th>Datetime</th>\n",
       "      <th>hour</th>\n",
       "      <th>AQI_binary</th>\n",
       "    </tr>\n",
       "  </thead>\n",
       "  <tbody>\n",
       "    <tr>\n",
       "      <th>40452</th>\n",
       "      <td>1</td>\n",
       "      <td>122.030833</td>\n",
       "      <td>52.048750</td>\n",
       "      <td>NaN</td>\n",
       "      <td>0.73</td>\n",
       "      <td>46.36</td>\n",
       "      <td>2020-04-14 13:00:00</td>\n",
       "      <td>13</td>\n",
       "      <td>1</td>\n",
       "    </tr>\n",
       "    <tr>\n",
       "      <th>30524</th>\n",
       "      <td>1</td>\n",
       "      <td>383.139167</td>\n",
       "      <td>242.396667</td>\n",
       "      <td>166.456250</td>\n",
       "      <td>5.18</td>\n",
       "      <td>27.37</td>\n",
       "      <td>2019-01-17 07:00:00</td>\n",
       "      <td>7</td>\n",
       "      <td>0</td>\n",
       "    </tr>\n",
       "    <tr>\n",
       "      <th>23077</th>\n",
       "      <td>1</td>\n",
       "      <td>87.407500</td>\n",
       "      <td>42.789167</td>\n",
       "      <td>46.957917</td>\n",
       "      <td>1.78</td>\n",
       "      <td>31.39</td>\n",
       "      <td>2018-03-06 09:00:00</td>\n",
       "      <td>9</td>\n",
       "      <td>1</td>\n",
       "    </tr>\n",
       "    <tr>\n",
       "      <th>20170</th>\n",
       "      <td>1</td>\n",
       "      <td>254.689000</td>\n",
       "      <td>149.013000</td>\n",
       "      <td>56.170500</td>\n",
       "      <td>2.41</td>\n",
       "      <td>23.67</td>\n",
       "      <td>2017-11-04 11:00:00</td>\n",
       "      <td>11</td>\n",
       "      <td>0</td>\n",
       "    </tr>\n",
       "    <tr>\n",
       "      <th>35736</th>\n",
       "      <td>1</td>\n",
       "      <td>80.718333</td>\n",
       "      <td>26.335417</td>\n",
       "      <td>62.932500</td>\n",
       "      <td>0.85</td>\n",
       "      <td>16.49</td>\n",
       "      <td>2019-10-01 01:00:00</td>\n",
       "      <td>1</td>\n",
       "      <td>1</td>\n",
       "    </tr>\n",
       "    <tr>\n",
       "      <th>...</th>\n",
       "      <td>...</td>\n",
       "      <td>...</td>\n",
       "      <td>...</td>\n",
       "      <td>...</td>\n",
       "      <td>...</td>\n",
       "      <td>...</td>\n",
       "      <td>...</td>\n",
       "      <td>...</td>\n",
       "      <td>...</td>\n",
       "    </tr>\n",
       "    <tr>\n",
       "      <th>7165</th>\n",
       "      <td>0</td>\n",
       "      <td>176.687500</td>\n",
       "      <td>81.640625</td>\n",
       "      <td>62.841250</td>\n",
       "      <td>1.28</td>\n",
       "      <td>75.93</td>\n",
       "      <td>2018-11-13 20:00:00</td>\n",
       "      <td>20</td>\n",
       "      <td>1</td>\n",
       "    </tr>\n",
       "    <tr>\n",
       "      <th>38919</th>\n",
       "      <td>1</td>\n",
       "      <td>265.765000</td>\n",
       "      <td>NaN</td>\n",
       "      <td>93.227083</td>\n",
       "      <td>1.09</td>\n",
       "      <td>33.13</td>\n",
       "      <td>2020-02-10 16:00:00</td>\n",
       "      <td>16</td>\n",
       "      <td>0</td>\n",
       "    </tr>\n",
       "    <tr>\n",
       "      <th>12235</th>\n",
       "      <td>0</td>\n",
       "      <td>37.739583</td>\n",
       "      <td>13.114583</td>\n",
       "      <td>14.052500</td>\n",
       "      <td>0.32</td>\n",
       "      <td>25.95</td>\n",
       "      <td>2019-07-09 13:00:00</td>\n",
       "      <td>13</td>\n",
       "      <td>1</td>\n",
       "    </tr>\n",
       "    <tr>\n",
       "      <th>40163</th>\n",
       "      <td>1</td>\n",
       "      <td>58.483333</td>\n",
       "      <td>25.197500</td>\n",
       "      <td>NaN</td>\n",
       "      <td>0.63</td>\n",
       "      <td>27.85</td>\n",
       "      <td>2020-04-02 12:00:00</td>\n",
       "      <td>12</td>\n",
       "      <td>1</td>\n",
       "    </tr>\n",
       "    <tr>\n",
       "      <th>37054</th>\n",
       "      <td>1</td>\n",
       "      <td>179.472083</td>\n",
       "      <td>112.203333</td>\n",
       "      <td>38.947917</td>\n",
       "      <td>2.16</td>\n",
       "      <td>26.73</td>\n",
       "      <td>2019-11-24 23:00:00</td>\n",
       "      <td>23</td>\n",
       "      <td>0</td>\n",
       "    </tr>\n",
       "  </tbody>\n",
       "</table>\n",
       "<p>14774 rows × 9 columns</p>\n",
       "</div>"
      ],
      "text/plain": [
       "       BigUrbanCity        PM10       PM2_5         NOx    CO     O3  \\\n",
       "40452             1  122.030833   52.048750         NaN  0.73  46.36   \n",
       "30524             1  383.139167  242.396667  166.456250  5.18  27.37   \n",
       "23077             1   87.407500   42.789167   46.957917  1.78  31.39   \n",
       "20170             1  254.689000  149.013000   56.170500  2.41  23.67   \n",
       "35736             1   80.718333   26.335417   62.932500  0.85  16.49   \n",
       "...             ...         ...         ...         ...   ...    ...   \n",
       "7165              0  176.687500   81.640625   62.841250  1.28  75.93   \n",
       "38919             1  265.765000         NaN   93.227083  1.09  33.13   \n",
       "12235             0   37.739583   13.114583   14.052500  0.32  25.95   \n",
       "40163             1   58.483333   25.197500         NaN  0.63  27.85   \n",
       "37054             1  179.472083  112.203333   38.947917  2.16  26.73   \n",
       "\n",
       "                  Datetime  hour  AQI_binary  \n",
       "40452  2020-04-14 13:00:00    13           1  \n",
       "30524  2019-01-17 07:00:00     7           0  \n",
       "23077  2018-03-06 09:00:00     9           1  \n",
       "20170  2017-11-04 11:00:00    11           0  \n",
       "35736  2019-10-01 01:00:00     1           1  \n",
       "...                    ...   ...         ...  \n",
       "7165   2018-11-13 20:00:00    20           1  \n",
       "38919  2020-02-10 16:00:00    16           0  \n",
       "12235  2019-07-09 13:00:00    13           1  \n",
       "40163  2020-04-02 12:00:00    12           1  \n",
       "37054  2019-11-24 23:00:00    23           0  \n",
       "\n",
       "[14774 rows x 9 columns]"
      ]
     },
     "execution_count": 24,
     "metadata": {},
     "output_type": "execute_result"
    }
   ],
   "source": [
    "\"\"\"\n",
    "CELL N°4 : Time feature conversion\n",
    "   \n",
    "@pre:  Training and testing dataframe\n",
    "@post: Training and testing dataframe with a new colum 'hour' filled with the corresponding hour of the day (integer)\n",
    "\n",
    "DO NOT FORGET TO APPLY TRANSFORMATIONS TO BOTH data_train AND data_test\n",
    "\"\"\"\n",
    "from datetime import datetime\n",
    "\n",
    "def datetime_to_hour(date_time):\n",
    "    hours = []\n",
    "    for date in date_time:\n",
    "        datetime_obj = datetime.strptime(date, '%Y-%m-%d %H:%M:%S')\n",
    "        hours.append(datetime_obj.hour)\n",
    "    return hours\n",
    "\n",
    "#############################\n",
    "# Start : \n",
    "#############################\n",
    "\n",
    "def hour_to_cyclical(df):\n",
    "    hours = datetime_to_hour(df[\"Datetime\"])\n",
    "    df.insert(len(df.columns)-1, \"hour\", hours)\n",
    "    return df\n",
    "hour_to_cyclical(data_train)\n",
    "hour_to_cyclical(data_test)\n",
    "\n",
    "# print(data_test[\"hour\"])\n",
    "\n",
    "##########################\n",
    "# End : \n",
    "########################"
   ]
  },
  {
   "cell_type": "code",
   "execution_count": 25,
   "metadata": {},
   "outputs": [],
   "source": [
    "\"\"\"\n",
    "CELL N°4 (BIS) : Cyclical features transformation\n",
    "   \n",
    "@pre:  Training and testing dataframe\n",
    "@post: Training and testing dataframe with two new columns 'sin_hour' and 'cos_hour' with hours of the day encoded in a cyclical way\n",
    "       \n",
    "Afterwards, you can drop the column 'Datetime', useless from now on :) \n",
    "\n",
    "DO NOT FORGET TO APPLY TRANSFORMATIONS TO BOTH data_train AND data_test\n",
    "\"\"\"\n",
    "\n",
    "def categorical_to_cyclical(features, max_value=24):\n",
    "    sin_features = np.sin(2 * np.pi * features/max_value)\n",
    "    cos_features = np.cos(2 * np.pi * features/max_value)\n",
    "    return (sin_features, cos_features)\n",
    "\n",
    "#############################\n",
    "# Start : \n",
    "#############################\n",
    "\n",
    "def hour_to_sincos(df):\n",
    "    sin_hour, cos_hour = categorical_to_cyclical(df[\"hour\"])\n",
    "    df.insert(len(df.columns)-1, \"sin_hour\", sin_hour)\n",
    "    df.insert(len(df.columns)-1, \"cos_hour\", cos_hour)\n",
    "    return df\n",
    "hour_to_sincos(data_train)\n",
    "hour_to_sincos(data_test)\n",
    "\n",
    "data_train.drop(\"Datetime\", axis = 1, inplace = True)\n",
    "data_test.drop(\"Datetime\", axis = 1, inplace = True)\n",
    "\n",
    "\n",
    "##########################\n",
    "# End : \n",
    "########################"
   ]
  },
  {
   "cell_type": "markdown",
   "metadata": {},
   "source": [
    "<font size=4 color=#009999> <br> 2.3. Correlation matrix </font> <br>\n",
    "\n",
    "__Compute__ and __plot__ the correlation matrix. For the plot, you can use the function `imshow` or `matshow` from `matplotlib`."
   ]
  },
  {
   "cell_type": "markdown",
   "metadata": {},
   "source": [
    "<div class=\"alert alert-warning\">\n",
    "    <b>[Question 2.3]</b> With the help of your plot and numerical results of cell 4, write your observations down.  <br\n",
    "                                                                                                                \n",
    "</div> "
   ]
  },
  {
   "cell_type": "code",
   "execution_count": 26,
   "metadata": {},
   "outputs": [
    {
     "data": {
      "application/vnd.plotly.v1+json": {
       "config": {
        "plotlyServerURL": "https://plot.ly"
       },
       "data": [
        {
         "colorbar": {
          "thickness": 20,
          "ticklen": 3
         },
         "colorscale": [
          [
           0,
           "#3f7f93"
          ],
          [
           0.071,
           "#5890a1"
          ],
          [
           0.143,
           "#72a1b0"
          ],
          [
           0.214,
           "#8cb3bf"
          ],
          [
           0.286,
           "#a7c5cf"
          ],
          [
           0.357,
           "#c0d6dd"
          ],
          [
           0.429,
           "#dae8ec"
          ],
          [
           0.5,
           "#f2f2f2"
          ],
          [
           0.571,
           "#f7d7d9"
          ],
          [
           0.643,
           "#f2bcc0"
          ],
          [
           0.714,
           "#eda3a9"
          ],
          [
           0.786,
           "#e8888f"
          ],
          [
           0.857,
           "#e36e76"
          ],
          [
           0.929,
           "#de535e"
          ],
          [
           1,
           "#d93a46"
          ]
         ],
         "hoverinfo": "text",
         "hovertext": [
          [
           "corr(BigUrbanCity, BigUrbanCity)= 1.00",
           "corr(BigUrbanCity, PM10)= 0.59",
           "corr(BigUrbanCity, PM2_5)= 0.44",
           "corr(BigUrbanCity, NOx)= 0.53",
           "corr(BigUrbanCity, CO)= 0.19",
           "corr(BigUrbanCity, O3)= -0.22",
           "corr(BigUrbanCity, hour)= -0.00",
           "corr(BigUrbanCity, sin_hour)= 0.01",
           "corr(BigUrbanCity, cos_hour)= -0.00",
           "corr(BigUrbanCity, AQI_binary)= -0.41"
          ],
          [
           "corr(PM10, BigUrbanCity)= 0.59",
           "corr(PM10, PM10)= 1.00",
           "corr(PM10, PM2_5)= 0.89",
           "corr(PM10, NOx)= 0.55",
           "corr(PM10, CO)= 0.27",
           "corr(PM10, O3)= -0.03",
           "corr(PM10, hour)= -0.00",
           "corr(PM10, sin_hour)= 0.01",
           "corr(PM10, cos_hour)= -0.00",
           "corr(PM10, AQI_binary)= -0.74"
          ],
          [
           "corr(PM2_5, BigUrbanCity)= 0.44",
           "corr(PM2_5, PM10)= 0.89",
           "corr(PM2_5, PM2_5)= 1.00",
           "corr(PM2_5, NOx)= 0.52",
           "corr(PM2_5, CO)= 0.25",
           "corr(PM2_5, O3)= -0.03",
           "corr(PM2_5, hour)= -0.00",
           "corr(PM2_5, sin_hour)= 0.01",
           "corr(PM2_5, cos_hour)= -0.00",
           "corr(PM2_5, AQI_binary)= -0.75"
          ],
          [
           "corr(NOx, BigUrbanCity)= 0.53",
           "corr(NOx, PM10)= 0.55",
           "corr(NOx, PM2_5)= 0.52",
           "corr(NOx, NOx)= 1.00",
           "corr(NOx, CO)= 0.28",
           "corr(NOx, O3)= -0.20",
           "corr(NOx, hour)= -0.01",
           "corr(NOx, sin_hour)= 0.01",
           "corr(NOx, cos_hour)= 0.00",
           "corr(NOx, AQI_binary)= -0.49"
          ],
          [
           "corr(CO, BigUrbanCity)= 0.19",
           "corr(CO, PM10)= 0.27",
           "corr(CO, PM2_5)= 0.25",
           "corr(CO, NOx)= 0.28",
           "corr(CO, CO)= 1.00",
           "corr(CO, O3)= -0.05",
           "corr(CO, hour)= -0.02",
           "corr(CO, sin_hour)= 0.00",
           "corr(CO, cos_hour)= -0.01",
           "corr(CO, AQI_binary)= -0.24"
          ],
          [
           "corr(O3, BigUrbanCity)= -0.22",
           "corr(O3, PM10)= -0.03",
           "corr(O3, PM2_5)= -0.03",
           "corr(O3, NOx)= -0.20",
           "corr(O3, CO)= -0.05",
           "corr(O3, O3)= 1.00",
           "corr(O3, hour)= 0.30",
           "corr(O3, sin_hour)= -0.39",
           "corr(O3, cos_hour)= 0.03",
           "corr(O3, AQI_binary)= 0.04"
          ],
          [
           "corr(hour, BigUrbanCity)= -0.00",
           "corr(hour, PM10)= -0.00",
           "corr(hour, PM2_5)= -0.00",
           "corr(hour, NOx)= -0.01",
           "corr(hour, CO)= -0.02",
           "corr(hour, O3)= 0.30",
           "corr(hour, hour)= 1.00",
           "corr(hour, sin_hour)= -0.77",
           "corr(hour, cos_hour)= -0.10",
           "corr(hour, AQI_binary)= -0.00"
          ],
          [
           "corr(sin_hour, BigUrbanCity)= 0.01",
           "corr(sin_hour, PM10)= 0.01",
           "corr(sin_hour, PM2_5)= 0.01",
           "corr(sin_hour, NOx)= 0.01",
           "corr(sin_hour, CO)= 0.00",
           "corr(sin_hour, O3)= -0.39",
           "corr(sin_hour, hour)= -0.77",
           "corr(sin_hour, sin_hour)= 1.00",
           "corr(sin_hour, cos_hour)= -0.00",
           "corr(sin_hour, AQI_binary)= 0.00"
          ],
          [
           "corr(cos_hour, BigUrbanCity)= -0.00",
           "corr(cos_hour, PM10)= -0.00",
           "corr(cos_hour, PM2_5)= -0.00",
           "corr(cos_hour, NOx)= 0.00",
           "corr(cos_hour, CO)= -0.01",
           "corr(cos_hour, O3)= 0.03",
           "corr(cos_hour, hour)= -0.10",
           "corr(cos_hour, sin_hour)= -0.00",
           "corr(cos_hour, cos_hour)= 1.00",
           "corr(cos_hour, AQI_binary)= -0.00"
          ],
          [
           "corr(AQI_binary, BigUrbanCity)= -0.41",
           "corr(AQI_binary, PM10)= -0.74",
           "corr(AQI_binary, PM2_5)= -0.75",
           "corr(AQI_binary, NOx)= -0.49",
           "corr(AQI_binary, CO)= -0.24",
           "corr(AQI_binary, O3)= 0.04",
           "corr(AQI_binary, hour)= -0.00",
           "corr(AQI_binary, sin_hour)= 0.00",
           "corr(AQI_binary, cos_hour)= -0.00",
           "corr(AQI_binary, AQI_binary)= 1.00"
          ]
         ],
         "text": [
          [
           1,
           0.59,
           0.44,
           0.53,
           0.19,
           -0.22,
           0,
           0.01,
           0,
           -0.41
          ],
          [
           0.59,
           1,
           0.89,
           0.55,
           0.27,
           -0.03,
           0,
           0.01,
           0,
           -0.74
          ],
          [
           0.44,
           0.89,
           1,
           0.52,
           0.25,
           -0.03,
           0,
           0.01,
           0,
           -0.75
          ],
          [
           0.53,
           0.55,
           0.52,
           1,
           0.28,
           -0.2,
           -0.01,
           0.01,
           0,
           -0.49
          ],
          [
           0.19,
           0.27,
           0.25,
           0.28,
           1,
           -0.05,
           -0.02,
           0,
           -0.01,
           -0.24
          ],
          [
           -0.22,
           -0.03,
           -0.03,
           -0.2,
           -0.05,
           1,
           0.3,
           -0.39,
           0.03,
           0.04
          ],
          [
           0,
           0,
           0,
           -0.01,
           -0.02,
           0.3,
           1,
           -0.77,
           -0.1,
           0
          ],
          [
           0.01,
           0.01,
           0.01,
           0.01,
           0,
           -0.39,
           -0.77,
           1,
           0,
           0
          ],
          [
           0,
           0,
           0,
           0,
           -0.01,
           0.03,
           -0.1,
           0,
           1,
           0
          ],
          [
           -0.41,
           -0.74,
           -0.75,
           -0.49,
           -0.24,
           0.04,
           0,
           0,
           0,
           1
          ]
         ],
         "textfont": {
          "size": 10
         },
         "texttemplate": "%{text}",
         "type": "heatmap",
         "x": [
          "BigUrbanCity",
          "PM10",
          "PM2_5",
          "NOx",
          "CO",
          "O3",
          "hour",
          "sin_hour",
          "cos_hour",
          "AQI_binary"
         ],
         "xgap": 1,
         "y": [
          "BigUrbanCity",
          "PM10",
          "PM2_5",
          "NOx",
          "CO",
          "O3",
          "hour",
          "sin_hour",
          "cos_hour",
          "AQI_binary"
         ],
         "ygap": 1,
         "z": [
          [
           1,
           0.5874446126972531,
           0.44127799893460257,
           0.5339647663450888,
           0.18585098152989735,
           -0.2161532322331001,
           -0.0033388754057233055,
           0.00518458082985411,
           -0.000011479521321158962,
           -0.40785734026169684
          ],
          [
           0.5874446126972531,
           1,
           0.8927493432815444,
           0.5456793286276284,
           0.2722839349567659,
           -0.033940187081441926,
           -0.003428626418225071,
           0.005680576721606999,
           -0.000336236387288581,
           -0.7402083109455896
          ],
          [
           0.44127799893460257,
           0.8927493432815444,
           1,
           0.5179025782049036,
           0.25123555631079086,
           -0.030918311839033697,
           -0.0028763140018253776,
           0.005948646720389735,
           -0.0036941658905125935,
           -0.752026806789516
          ],
          [
           0.5339647663450888,
           0.5456793286276284,
           0.5179025782049036,
           1,
           0.2765378388649336,
           -0.1968609934176616,
           -0.00764396225926375,
           0.00764307850705182,
           0.0021606265034126095,
           -0.4926546303276275
          ],
          [
           0.18585098152989735,
           0.2722839349567659,
           0.25123555631079086,
           0.2765378388649336,
           1,
           -0.048194700868635885,
           -0.015810329963214,
           0.002910975582472325,
           -0.010273169373277054,
           -0.24151182106128366
          ],
          [
           -0.2161532322331001,
           -0.033940187081441926,
           -0.030918311839033697,
           -0.1968609934176616,
           -0.048194700868635885,
           1,
           0.29810737358984857,
           -0.3866330341539724,
           0.030772314673825695,
           0.037241400122532645
          ],
          [
           -0.0033388754057233055,
           -0.003428626418225071,
           -0.0028763140018253776,
           -0.00764396225926375,
           -0.015810329963214,
           0.29810737358984857,
           1,
           -0.7747320131835747,
           -0.10247380643356521,
           -0.0018683587248125078
          ],
          [
           0.00518458082985411,
           0.005680576721606999,
           0.005948646720389735,
           0.00764307850705182,
           0.002910975582472325,
           -0.3866330341539724,
           -0.7747320131835747,
           1,
           -0.0013717001714257638,
           0.004042300799247945
          ],
          [
           -0.000011479521321158962,
           -0.000336236387288581,
           -0.0036941658905125935,
           0.0021606265034126095,
           -0.010273169373277054,
           0.030772314673825695,
           -0.10247380643356521,
           -0.0013717001714257638,
           1,
           -0.0009650341706029987
          ],
          [
           -0.40785734026169684,
           -0.7402083109455896,
           -0.752026806789516,
           -0.4926546303276275,
           -0.24151182106128366,
           0.037241400122532645,
           -0.0018683587248125078,
           0.004042300799247945,
           -0.0009650341706029987,
           1
          ]
         ],
         "zmax": 1,
         "zmin": -1
        }
       ],
       "layout": {
        "height": 600,
        "template": {
         "data": {
          "bar": [
           {
            "error_x": {
             "color": "#2a3f5f"
            },
            "error_y": {
             "color": "#2a3f5f"
            },
            "marker": {
             "line": {
              "color": "#E5ECF6",
              "width": 0.5
             },
             "pattern": {
              "fillmode": "overlay",
              "size": 10,
              "solidity": 0.2
             }
            },
            "type": "bar"
           }
          ],
          "barpolar": [
           {
            "marker": {
             "line": {
              "color": "#E5ECF6",
              "width": 0.5
             },
             "pattern": {
              "fillmode": "overlay",
              "size": 10,
              "solidity": 0.2
             }
            },
            "type": "barpolar"
           }
          ],
          "carpet": [
           {
            "aaxis": {
             "endlinecolor": "#2a3f5f",
             "gridcolor": "white",
             "linecolor": "white",
             "minorgridcolor": "white",
             "startlinecolor": "#2a3f5f"
            },
            "baxis": {
             "endlinecolor": "#2a3f5f",
             "gridcolor": "white",
             "linecolor": "white",
             "minorgridcolor": "white",
             "startlinecolor": "#2a3f5f"
            },
            "type": "carpet"
           }
          ],
          "choropleth": [
           {
            "colorbar": {
             "outlinewidth": 0,
             "ticks": ""
            },
            "type": "choropleth"
           }
          ],
          "contour": [
           {
            "colorbar": {
             "outlinewidth": 0,
             "ticks": ""
            },
            "colorscale": [
             [
              0,
              "#0d0887"
             ],
             [
              0.1111111111111111,
              "#46039f"
             ],
             [
              0.2222222222222222,
              "#7201a8"
             ],
             [
              0.3333333333333333,
              "#9c179e"
             ],
             [
              0.4444444444444444,
              "#bd3786"
             ],
             [
              0.5555555555555556,
              "#d8576b"
             ],
             [
              0.6666666666666666,
              "#ed7953"
             ],
             [
              0.7777777777777778,
              "#fb9f3a"
             ],
             [
              0.8888888888888888,
              "#fdca26"
             ],
             [
              1,
              "#f0f921"
             ]
            ],
            "type": "contour"
           }
          ],
          "contourcarpet": [
           {
            "colorbar": {
             "outlinewidth": 0,
             "ticks": ""
            },
            "type": "contourcarpet"
           }
          ],
          "heatmap": [
           {
            "colorbar": {
             "outlinewidth": 0,
             "ticks": ""
            },
            "colorscale": [
             [
              0,
              "#0d0887"
             ],
             [
              0.1111111111111111,
              "#46039f"
             ],
             [
              0.2222222222222222,
              "#7201a8"
             ],
             [
              0.3333333333333333,
              "#9c179e"
             ],
             [
              0.4444444444444444,
              "#bd3786"
             ],
             [
              0.5555555555555556,
              "#d8576b"
             ],
             [
              0.6666666666666666,
              "#ed7953"
             ],
             [
              0.7777777777777778,
              "#fb9f3a"
             ],
             [
              0.8888888888888888,
              "#fdca26"
             ],
             [
              1,
              "#f0f921"
             ]
            ],
            "type": "heatmap"
           }
          ],
          "heatmapgl": [
           {
            "colorbar": {
             "outlinewidth": 0,
             "ticks": ""
            },
            "colorscale": [
             [
              0,
              "#0d0887"
             ],
             [
              0.1111111111111111,
              "#46039f"
             ],
             [
              0.2222222222222222,
              "#7201a8"
             ],
             [
              0.3333333333333333,
              "#9c179e"
             ],
             [
              0.4444444444444444,
              "#bd3786"
             ],
             [
              0.5555555555555556,
              "#d8576b"
             ],
             [
              0.6666666666666666,
              "#ed7953"
             ],
             [
              0.7777777777777778,
              "#fb9f3a"
             ],
             [
              0.8888888888888888,
              "#fdca26"
             ],
             [
              1,
              "#f0f921"
             ]
            ],
            "type": "heatmapgl"
           }
          ],
          "histogram": [
           {
            "marker": {
             "pattern": {
              "fillmode": "overlay",
              "size": 10,
              "solidity": 0.2
             }
            },
            "type": "histogram"
           }
          ],
          "histogram2d": [
           {
            "colorbar": {
             "outlinewidth": 0,
             "ticks": ""
            },
            "colorscale": [
             [
              0,
              "#0d0887"
             ],
             [
              0.1111111111111111,
              "#46039f"
             ],
             [
              0.2222222222222222,
              "#7201a8"
             ],
             [
              0.3333333333333333,
              "#9c179e"
             ],
             [
              0.4444444444444444,
              "#bd3786"
             ],
             [
              0.5555555555555556,
              "#d8576b"
             ],
             [
              0.6666666666666666,
              "#ed7953"
             ],
             [
              0.7777777777777778,
              "#fb9f3a"
             ],
             [
              0.8888888888888888,
              "#fdca26"
             ],
             [
              1,
              "#f0f921"
             ]
            ],
            "type": "histogram2d"
           }
          ],
          "histogram2dcontour": [
           {
            "colorbar": {
             "outlinewidth": 0,
             "ticks": ""
            },
            "colorscale": [
             [
              0,
              "#0d0887"
             ],
             [
              0.1111111111111111,
              "#46039f"
             ],
             [
              0.2222222222222222,
              "#7201a8"
             ],
             [
              0.3333333333333333,
              "#9c179e"
             ],
             [
              0.4444444444444444,
              "#bd3786"
             ],
             [
              0.5555555555555556,
              "#d8576b"
             ],
             [
              0.6666666666666666,
              "#ed7953"
             ],
             [
              0.7777777777777778,
              "#fb9f3a"
             ],
             [
              0.8888888888888888,
              "#fdca26"
             ],
             [
              1,
              "#f0f921"
             ]
            ],
            "type": "histogram2dcontour"
           }
          ],
          "mesh3d": [
           {
            "colorbar": {
             "outlinewidth": 0,
             "ticks": ""
            },
            "type": "mesh3d"
           }
          ],
          "parcoords": [
           {
            "line": {
             "colorbar": {
              "outlinewidth": 0,
              "ticks": ""
             }
            },
            "type": "parcoords"
           }
          ],
          "pie": [
           {
            "automargin": true,
            "type": "pie"
           }
          ],
          "scatter": [
           {
            "fillpattern": {
             "fillmode": "overlay",
             "size": 10,
             "solidity": 0.2
            },
            "type": "scatter"
           }
          ],
          "scatter3d": [
           {
            "line": {
             "colorbar": {
              "outlinewidth": 0,
              "ticks": ""
             }
            },
            "marker": {
             "colorbar": {
              "outlinewidth": 0,
              "ticks": ""
             }
            },
            "type": "scatter3d"
           }
          ],
          "scattercarpet": [
           {
            "marker": {
             "colorbar": {
              "outlinewidth": 0,
              "ticks": ""
             }
            },
            "type": "scattercarpet"
           }
          ],
          "scattergeo": [
           {
            "marker": {
             "colorbar": {
              "outlinewidth": 0,
              "ticks": ""
             }
            },
            "type": "scattergeo"
           }
          ],
          "scattergl": [
           {
            "marker": {
             "colorbar": {
              "outlinewidth": 0,
              "ticks": ""
             }
            },
            "type": "scattergl"
           }
          ],
          "scattermapbox": [
           {
            "marker": {
             "colorbar": {
              "outlinewidth": 0,
              "ticks": ""
             }
            },
            "type": "scattermapbox"
           }
          ],
          "scatterpolar": [
           {
            "marker": {
             "colorbar": {
              "outlinewidth": 0,
              "ticks": ""
             }
            },
            "type": "scatterpolar"
           }
          ],
          "scatterpolargl": [
           {
            "marker": {
             "colorbar": {
              "outlinewidth": 0,
              "ticks": ""
             }
            },
            "type": "scatterpolargl"
           }
          ],
          "scatterternary": [
           {
            "marker": {
             "colorbar": {
              "outlinewidth": 0,
              "ticks": ""
             }
            },
            "type": "scatterternary"
           }
          ],
          "surface": [
           {
            "colorbar": {
             "outlinewidth": 0,
             "ticks": ""
            },
            "colorscale": [
             [
              0,
              "#0d0887"
             ],
             [
              0.1111111111111111,
              "#46039f"
             ],
             [
              0.2222222222222222,
              "#7201a8"
             ],
             [
              0.3333333333333333,
              "#9c179e"
             ],
             [
              0.4444444444444444,
              "#bd3786"
             ],
             [
              0.5555555555555556,
              "#d8576b"
             ],
             [
              0.6666666666666666,
              "#ed7953"
             ],
             [
              0.7777777777777778,
              "#fb9f3a"
             ],
             [
              0.8888888888888888,
              "#fdca26"
             ],
             [
              1,
              "#f0f921"
             ]
            ],
            "type": "surface"
           }
          ],
          "table": [
           {
            "cells": {
             "fill": {
              "color": "#EBF0F8"
             },
             "line": {
              "color": "white"
             }
            },
            "header": {
             "fill": {
              "color": "#C8D4E3"
             },
             "line": {
              "color": "white"
             }
            },
            "type": "table"
           }
          ]
         },
         "layout": {
          "annotationdefaults": {
           "arrowcolor": "#2a3f5f",
           "arrowhead": 0,
           "arrowwidth": 1
          },
          "autotypenumbers": "strict",
          "coloraxis": {
           "colorbar": {
            "outlinewidth": 0,
            "ticks": ""
           }
          },
          "colorscale": {
           "diverging": [
            [
             0,
             "#8e0152"
            ],
            [
             0.1,
             "#c51b7d"
            ],
            [
             0.2,
             "#de77ae"
            ],
            [
             0.3,
             "#f1b6da"
            ],
            [
             0.4,
             "#fde0ef"
            ],
            [
             0.5,
             "#f7f7f7"
            ],
            [
             0.6,
             "#e6f5d0"
            ],
            [
             0.7,
             "#b8e186"
            ],
            [
             0.8,
             "#7fbc41"
            ],
            [
             0.9,
             "#4d9221"
            ],
            [
             1,
             "#276419"
            ]
           ],
           "sequential": [
            [
             0,
             "#0d0887"
            ],
            [
             0.1111111111111111,
             "#46039f"
            ],
            [
             0.2222222222222222,
             "#7201a8"
            ],
            [
             0.3333333333333333,
             "#9c179e"
            ],
            [
             0.4444444444444444,
             "#bd3786"
            ],
            [
             0.5555555555555556,
             "#d8576b"
            ],
            [
             0.6666666666666666,
             "#ed7953"
            ],
            [
             0.7777777777777778,
             "#fb9f3a"
            ],
            [
             0.8888888888888888,
             "#fdca26"
            ],
            [
             1,
             "#f0f921"
            ]
           ],
           "sequentialminus": [
            [
             0,
             "#0d0887"
            ],
            [
             0.1111111111111111,
             "#46039f"
            ],
            [
             0.2222222222222222,
             "#7201a8"
            ],
            [
             0.3333333333333333,
             "#9c179e"
            ],
            [
             0.4444444444444444,
             "#bd3786"
            ],
            [
             0.5555555555555556,
             "#d8576b"
            ],
            [
             0.6666666666666666,
             "#ed7953"
            ],
            [
             0.7777777777777778,
             "#fb9f3a"
            ],
            [
             0.8888888888888888,
             "#fdca26"
            ],
            [
             1,
             "#f0f921"
            ]
           ]
          },
          "colorway": [
           "#636efa",
           "#EF553B",
           "#00cc96",
           "#ab63fa",
           "#FFA15A",
           "#19d3f3",
           "#FF6692",
           "#B6E880",
           "#FF97FF",
           "#FECB52"
          ],
          "font": {
           "color": "#2a3f5f"
          },
          "geo": {
           "bgcolor": "white",
           "lakecolor": "white",
           "landcolor": "#E5ECF6",
           "showlakes": true,
           "showland": true,
           "subunitcolor": "white"
          },
          "hoverlabel": {
           "align": "left"
          },
          "hovermode": "closest",
          "mapbox": {
           "style": "light"
          },
          "paper_bgcolor": "white",
          "plot_bgcolor": "#E5ECF6",
          "polar": {
           "angularaxis": {
            "gridcolor": "white",
            "linecolor": "white",
            "ticks": ""
           },
           "bgcolor": "#E5ECF6",
           "radialaxis": {
            "gridcolor": "white",
            "linecolor": "white",
            "ticks": ""
           }
          },
          "scene": {
           "xaxis": {
            "backgroundcolor": "#E5ECF6",
            "gridcolor": "white",
            "gridwidth": 2,
            "linecolor": "white",
            "showbackground": true,
            "ticks": "",
            "zerolinecolor": "white"
           },
           "yaxis": {
            "backgroundcolor": "#E5ECF6",
            "gridcolor": "white",
            "gridwidth": 2,
            "linecolor": "white",
            "showbackground": true,
            "ticks": "",
            "zerolinecolor": "white"
           },
           "zaxis": {
            "backgroundcolor": "#E5ECF6",
            "gridcolor": "white",
            "gridwidth": 2,
            "linecolor": "white",
            "showbackground": true,
            "ticks": "",
            "zerolinecolor": "white"
           }
          },
          "shapedefaults": {
           "line": {
            "color": "#2a3f5f"
           }
          },
          "ternary": {
           "aaxis": {
            "gridcolor": "white",
            "linecolor": "white",
            "ticks": ""
           },
           "baxis": {
            "gridcolor": "white",
            "linecolor": "white",
            "ticks": ""
           },
           "bgcolor": "#E5ECF6",
           "caxis": {
            "gridcolor": "white",
            "linecolor": "white",
            "ticks": ""
           }
          },
          "title": {
           "x": 0.05
          },
          "xaxis": {
           "automargin": true,
           "gridcolor": "white",
           "linecolor": "white",
           "ticks": "",
           "title": {
            "standoff": 15
           },
           "zerolinecolor": "white",
           "zerolinewidth": 2
          },
          "yaxis": {
           "automargin": true,
           "gridcolor": "white",
           "linecolor": "white",
           "ticks": "",
           "title": {
            "standoff": 15
           },
           "zerolinecolor": "white",
           "zerolinewidth": 2
          }
         }
        },
        "title": {
         "text": "Correlation Matrix",
         "x": 0.5
        },
        "width": 600,
        "xaxis": {
         "showgrid": false
        },
        "yaxis": {
         "autorange": "reversed",
         "showgrid": false
        }
       }
      }
     },
     "metadata": {},
     "output_type": "display_data"
    }
   ],
   "source": [
    "import plotly.graph_objs as go\n",
    "\"\"\"\n",
    "CELL N°5 : CORRELATION MATRIX\n",
    "   \n",
    "@pre:  Training dataframe  \n",
    "@post: The correlation matrix between the features (target incl.) and its plot    \n",
    "\"\"\"\n",
    "\n",
    "### Code repris du fichier 'helping_functions.py' donné pour le TP1 de Data science ###\n",
    "\n",
    "def plot_correlation_matrix(data):\n",
    "    X  = [label for label in data]\n",
    "    N  = data.shape[1]\n",
    "    correl_mat = (data.corr()).values\n",
    "\n",
    "    # Display the correlation in cells\n",
    "    hovertext      = [ [f\"corr({X[i]}, {X[j]})= {correl_mat[i][j]:.2f}\" for j in range(N)] for i in range(N)]\n",
    "    sns_colorscale = [ [0.0, \"#3f7f93\"],   [0.071, \"#5890a1\"], [0.143, \"#72a1b0\"], [0.214, \"#8cb3bf\"],\n",
    "                    [0.286, \"#a7c5cf\"], [0.357, \"#c0d6dd\"], [0.429, \"#dae8ec\"], [0.5, \"#f2f2f2\"], \n",
    "                    [0.571, \"#f7d7d9\"], [0.643, \"#f2bcc0\"], [0.714, \"#eda3a9\"], [0.786, \"#e8888f\"], \n",
    "                    [0.857, \"#e36e76\"], [0.929, \"#de535e\"], [1.0, \"#d93a46\"] ]\n",
    "\n",
    "\n",
    "    heat   = go.Heatmap(z = data.corr(), x = X, y = X, zmin = -1, zmax = 1, xgap = 1, ygap = 1,\n",
    "                        colorscale = sns_colorscale, colorbar_thickness = 20, colorbar_ticklen = 3,\n",
    "                        hovertext = hovertext, hoverinfo = \"text\", text=correl_mat.round(2), textfont_size=10, texttemplate=\"%{text}\")\n",
    "    title  = \"Correlation Matrix\"\n",
    "\n",
    "    layout = go.Layout(title_text = title, title_x = 0.5, width = 600, height = 600,\n",
    "        xaxis_showgrid = False, yaxis_showgrid = False, yaxis_autorange = \"reversed\")\n",
    "\n",
    "\n",
    "    fig = go.Figure(data=[heat], layout=layout)\n",
    "    fig.show()\n",
    "    return correl_mat\n",
    "\n",
    "\n",
    "correl_mat = plot_correlation_matrix(data_train)"
   ]
  },
  {
   "cell_type": "markdown",
   "metadata": {},
   "source": [
    "<font size=4 color=#009999> 2.4. Features Selection </font> <br>\n",
    "\n",
    "<b>Establish</b> a feature selection strategy and store the feature names in a list. \n",
    "\n",
    "N.B. Selection of the $n$ first correlated features and/or setting of a correlation threshold or any other rule. <br>Furthermore, investigate on <i>redundant</i> features which can be removed as well.</span> "
   ]
  },
  {
   "cell_type": "markdown",
   "metadata": {},
   "source": [
    "<div class=\"alert alert-warning\">\n",
    "    <b>[Question 2.4]</b> Explain your selection strategy. \n",
    "    Is it appropriate to use the correlation matrix to select (or not) cyclical features?\n",
    "</div> "
   ]
  },
  {
   "cell_type": "code",
   "execution_count": 27,
   "metadata": {},
   "outputs": [
    {
     "name": "stdout",
     "output_type": "stream",
     "text": [
      "0.41\n",
      "0.74\n",
      "0.75\n",
      "0.49\n",
      "0.24\n",
      " \n",
      "auto selected features (treshold): ['BigUrbanCity', 'PM10', 'PM2_5', 'NOx', 'CO']\n",
      "PM2_5           0.752027\n",
      "PM10            0.740208\n",
      "NOx             0.492655\n",
      "BigUrbanCity    0.407857\n",
      "CO              0.241512\n",
      "dtype: float64\n"
     ]
    }
   ],
   "source": [
    "\"\"\"\n",
    "CELL N°6 : Features selection \n",
    "   \n",
    "@pre:  data_train's correlation matrix: correl_mat (see CELL  N°5)\n",
    "@post: a list 'feature_names' with the names of the selected features, display of each explanatory feature vs. binary target\n",
    "\"\"\"\n",
    "\n",
    "#############################\n",
    "# Start : Only for the TA's\n",
    "#############################\n",
    "\n",
    "# For the n first correlated features\n",
    "def feature_selection_corr(dataFrame, n):\n",
    "    out = dataFrame.corrwith(dataFrame[\"AQI_binary\"]).drop([\"AQI_binary\"]).abs().sort_values(ascending=False).head(n)\n",
    "    return out\n",
    "\n",
    "# For the threshold\n",
    "correl_mat = np.round(correl_mat,2)\n",
    "\n",
    "threshold = 0.15\n",
    "index_features = []\n",
    "for i in range (len(correl_mat)-1):\n",
    "    if abs(correl_mat[len(correl_mat)-1][i]) >= threshold:\n",
    "        index_features.append(i)\n",
    "\n",
    "feature_names_old = [col for col in data_train.columns]\n",
    "feature_names = []\n",
    "for ind in index_features:\n",
    "    feature_names.append(feature_names_old[ind])\n",
    "\n",
    "print(' ')\n",
    "print('auto selected features (treshold): ' +str(feature_names))\n",
    "# OR\n",
    "print(feature_selection_corr(data_train, 5))\n",
    "\n",
    "# Ici, nous avons retiré les features de temporalité car elles sont peu corrélées; normal elles sont sous la forme d'un sinus/cosinus.\n",
    "# Cependant, une selection plus \"approfondie\" aurait pu capturer des relations qui ne sont pas uniquement linéaires.\n",
    "\n",
    "\n",
    "##########################\n",
    "# End : Only for the TA's\n",
    "########################"
   ]
  },
  {
   "cell_type": "markdown",
   "metadata": {},
   "source": [
    "<font size=4 color=#009999> <br> 2.5 Data scaling and normalization</font> <br> \n",
    "\n",
    "__Split__ your _training_ and _test_ sets into their respective features set  (X)  and a binary target variable (y). __Standardize__ or __Normalize__ the features sets. \n",
    "\n",
    "\n",
    "__Remark 1.__ The scaler object, used to scale the <i>training set</i>, should also be the one used on the <i>test set</i>! Again, do no reinvent the wheel!  \n"
   ]
  },
  {
   "cell_type": "markdown",
   "metadata": {},
   "source": [
    "<div class=\"alert alert-warning\">\n",
    "    <b>[Question 2.5]</b>  Why do we scale data? Justify properly, whether it is necessary or not for your feature set (X) and which scaler did you use.\n",
    "</div> "
   ]
  },
  {
   "cell_type": "code",
   "execution_count": 28,
   "metadata": {},
   "outputs": [],
   "source": [
    "\"\"\"\n",
    "CELL N°7 : Data fill-in & scaling\n",
    "   \n",
    "@pre: train and test dataframes and the list 'feature_names' of columns to keep    \n",
    "@post:  X_train: numpy array, with (scaled) selected features, containing training data\n",
    "        X_test: numpy array, with (scaled) selected features, containing testing data. \n",
    "                The scaling should be done using the statistic of the train set.\n",
    "\"\"\"\n",
    "\n",
    "from sklearn.preprocessing import StandardScaler, MinMaxScaler\n",
    "\n",
    "\n",
    "## filling the rest of missing-values (not much) with median value\n",
    "for col in feature_names:\n",
    "    med_col = data_train[col].median()\n",
    "    data_train[col] = data_train[col].fillna(med_col)\n",
    "    data_test[col] = data_test[col].fillna(med_col)\n",
    "\n",
    "## Keeping only the selected features\n",
    "X_train = data_train[feature_names]\n",
    "y_binary_train = data_train[\"AQI_binary\"]\n",
    "X_test = data_test[feature_names]\n",
    "y_binary_test = data_test[\"AQI_binary\"]\n",
    "\n",
    "#############################\n",
    "# Start : \n",
    "#############################\n",
    "\n",
    "\n",
    "scaler = StandardScaler().fit(X_train)\n",
    "X_train = scaler.transform(X_train)\n",
    "X_test = scaler.transform(X_test)\n",
    "\n",
    "\n",
    "##########################\n",
    "# End : \n",
    "#########################"
   ]
  },
  {
   "cell_type": "markdown",
   "metadata": {},
   "source": [
    "<font size=4 color=#009999>  </font> <br>\n",
    "\n",
    "<br><font size=7 color=#009999> <b>PART 3 - MODEL SELECTION </b> </font> <br><br>\n",
    "\n",
    "\n",
    "Let us first build some tools that will help us to choose among our investigated models together with their (hyper-)parameters which one performs the best. "
   ]
  },
  {
   "cell_type": "markdown",
   "metadata": {},
   "source": [
    "<font size=4 color=#009999> <br> 3.1. PRECISION, RECALL AND F1 SCORE </font> <br>\n",
    "\n",
    "**Implement** the _precision, recall_ and _F-measure_ metrics based on the confusion matrix. Please follow the specifications in the provided template.  <br>\n",
    "\n",
    "**Reminder**\n",
    "\n",
    "$F_1$ is a performance score allowing to obtain some trade-off between the precision and recall criterions. It can be computed as follows:\n",
    "$$F_1 = 2~\\frac{\\mathrm{precision} \\cdot \\mathrm{recall}}{\\mathrm{precision} + \\mathrm{recall}}.$$\n",
    "\n",
    "Please consult, [Wikipedia](https://en.wikipedia.org/wiki/F-score) for further information about the metric.\n",
    "\n",
    "**NOTE**: if ever the model you built would be terribly <i>bad</i>, with both precision's and recall's value equal to $0$, we suggest to return $0$ as $F_1$ score. "
   ]
  },
  {
   "cell_type": "code",
   "execution_count": 29,
   "metadata": {},
   "outputs": [],
   "source": [
    "\"\"\"\n",
    "CELL N°9 : Implementation of precision, recall & F1 scores\n",
    "\n",
    "@pre:  /  \n",
    "@post: Follow the specifications to implement precision, recall and probas_to_F1 functions. \n",
    "\"\"\"\n",
    "from sklearn.metrics import confusion_matrix\n",
    "\n",
    "\"\"\" -----------------------------------------------------------------------------------------\n",
    "Converts a vector of real probability values to a binary 0 or 1 \n",
    "@pre: \n",
    "    - proba_vec: vector with real values representing each a probability that the air quality is good.\n",
    "    - threshold : a threshold probability (between 0 and 1) to determine if a given air is good (1) or not (0)\n",
    "@post:\n",
    "    - predicted_labels: binary prediction vector, with elements being 0 or 1.\n",
    "----------------------------------------------------------------------------------------- \"\"\"\n",
    "\n",
    "\n",
    "def pred_probas_to_pred_labels(proba_vec, threshold=0.5):\n",
    "    return np.where(proba_vec <= threshold, 0, 1)\n",
    "\n",
    "\n",
    "\"\"\" -----------------------------------------------------------------------------------------\n",
    "Based on the confusion matrix, computes the 'precision'\n",
    "@pre: \n",
    "    - cm : confusion_matrix of a binary classification\n",
    "@post:\n",
    "    - score: precision (or positive predictive value), associated with cm\n",
    "----------------------------------------------------------------------------------------- \"\"\"\n",
    "\n",
    "\n",
    "def precision(cm):\n",
    "\n",
    "    ppv = cm[1][1]/(cm[1][1]+cm[0][1])\n",
    "\n",
    "    return ppv\n",
    "\n",
    "\n",
    "\"\"\" -----------------------------------------------------------------------------------------\n",
    "Based on the confusion matrix, computes the 'recall'\n",
    "@pre: \n",
    "    - cm : confusion_matrix of a binary classification  \n",
    "@post:\n",
    "    - r: recall (or true positive rate), associated with cm\n",
    "----------------------------------------------------------------------------------------- \"\"\"\n",
    "\n",
    "\n",
    "def recall(cm):\n",
    "\n",
    "    tpr = cm[1][1]/(cm[1][1]+cm[1][0])\n",
    "\n",
    "    return tpr\n",
    "\n",
    "\n",
    "\"\"\" -----------------------------------------------------------------------------------------\n",
    "Evaluates the F1 score which is a harmonic mean of the precision and recall\n",
    "@pre: \n",
    "    - y_true: vectors of 0 and 1 representing the real class values\n",
    "    - y_pred: vectors of real values representing predicted probability of the air being good ('1')\n",
    "    - output:  'F1' means that the output should only be the F1 score. \n",
    "               'PRF1' means that the output is a tuple with (precision, recall, F1)\n",
    "               'F1' is the default value\n",
    "    - threshold: a threshold probability (between 0 and 1) to determine if the air is good ('1') or not ('0')\n",
    "@post:\n",
    "    - F1_score: harmonic mean of the precision and recall\n",
    "    - If asked in argument, precision and recall can be added in the output: (precision, recall, F1)\n",
    "----------------------------------------------------------------------------------------- \"\"\"\n",
    "\n",
    "\n",
    "def probas_to_F1(y_true, y_pred, output=\"F1\", threshold=0.5):\n",
    "\n",
    "    y_pred = pred_probas_to_pred_labels(y_pred, threshold)\n",
    "    cm = confusion_matrix(y_true, y_pred)\n",
    "\n",
    "    tpr = recall(cm)\n",
    "    ppv = precision(cm)\n",
    "    F1_score = 2*(ppv*tpr)/(ppv+tpr)\n",
    "\n",
    "    if output == \"PRF1\":\n",
    "        return (ppv, tpr, F1_score)\n",
    "\n",
    "    return F1_score"
   ]
  },
  {
   "cell_type": "markdown",
   "metadata": {},
   "source": [
    "<font size=4 color=#009999> <br> 3.2. MODEL EVALUATION  </font> <br>\n",
    "\n",
    "**Implement** `evalParam`, which evaluates, using a __k-fold__ cross-validation, a list of `scikit-learn` models. Use your method `probas_to_F1` as score function. The function `evalParam` must be  **scalable**. Put differently, it must handle $m$ methods, and a variable list of their possible parameters configuration. \n",
    "\n",
    "\n",
    "In addition of the list of _models_ (methods) and their list of _hyperparameters_ (param), the function takes as arguments the _features set_ (X), _target variable_ (y) and _the number of folds_ (cv). \n",
    "\n",
    "It returns an array _score_ such that <br>\n",
    "\n",
    "score[i][j] = average F1 over the folds, using method _i_ with parameters configuration j.\n",
    "\n",
    "To help you, here is a pseudo code of K-fold for one method and one configuration of hyperparameters. \n",
    "\n",
    "<img src=\"K-fold_pseudo-code.png\" width = \"650\">\n",
    " \n",
    "__Remark 1.__ You have to implement a K-fold cross-validation. You are only allowed to use `KFold.splits(dataset)` from `sklearn.model_selection` to generate the indices of your different folds. \n"
   ]
  },
  {
   "cell_type": "markdown",
   "metadata": {},
   "source": [
    "<div class=\"alert alert-warning\">\n",
    "    <b>[Question 3.1]</b>\n",
    "    Explain the idea of K-fold cross-validation and why it is useful. How the choice of K (in the cross-validation) impacts the bias and the variance of the scores obtained on the different folds? Choose and justify the number of folds you consider in this project. \n",
    "</div> "
   ]
  },
  {
   "cell_type": "code",
   "execution_count": 30,
   "metadata": {},
   "outputs": [],
   "source": [
    "\"\"\"\n",
    "CELL N°10 : Evaluates the methods using different parameters via a K-folds with cv folds\n",
    "\n",
    "@pre: \n",
    "    - methods: list of classifiers to analyze\n",
    "    - param: list of size len(methods) containing lists of parameters (in dictionary form) to evaluate.\n",
    "             In other words, param[i][j] is a dictionary of parmeters.\n",
    "             For example if index i is for KNN, we can have a parameter configuration (with index j) described as\n",
    "                 param[i][j] = {\"n_neigbors\":5, \"weights\": 'uniform'}; \n",
    "                 while param[i] is a list of such parameters dictionnaries for model i (here KNN)\n",
    "    - X: training dataset\n",
    "    - y: target vector for the corresponding entries of X\n",
    "    - cv: the number of folds to use in your cross-validation\n",
    "@post:\n",
    "    - score: list with same shape as param. score[i][j] = mean score over the folds, \n",
    "                                                         using method i with parameters param[i][j]\n",
    "------------------------------------------------------------------------------------------------ \"\"\"\n",
    "from sklearn.model_selection import KFold\n",
    "\n",
    "\n",
    "def evalParam(methods, param, X, y, cv):\n",
    "    score = []\n",
    "    X_arr = np.array(X)\n",
    "    y_arr = np.array(y)\n",
    "\n",
    "    for i in range(len(methods)):\n",
    "        score.append(np.zeros(len(param[i])))\n",
    "\n",
    "    kf = KFold(cv, shuffle=True, random_state=1)\n",
    "\n",
    "    # for train_index, test_index in ...: # TO CHANGE\n",
    "    for train_index, val_index in kf.split(X):\n",
    "        X_train, X_val = X_arr[train_index, :], X_arr[val_index, :]\n",
    "        y_train, y_val = y_arr[train_index].ravel(), y_arr[val_index].ravel()\n",
    "        # .ravel() transforms any ND-array into a 1D-array\n",
    "\n",
    "        for meth in range(len(methods)):\n",
    "            for p in range(len(param[meth])):\n",
    "                methods[meth].set_params(**param[meth][p])\n",
    "                methods[meth].fit(X_train, y_train)\n",
    "                y_pred = methods[meth].predict(X_val)\n",
    "                score[meth][p] += (probas_to_F1(y_val, y_pred, output=\"F1\",threshold=0.5))/ kf.get_n_splits()\n",
    "\n",
    "    return score"
   ]
  },
  {
   "cell_type": "markdown",
   "metadata": {},
   "source": [
    "<font size=4 color=#009999> <br> 3.3. MODEL SELECTION AND PARAMETERS TUNING </font> <br>\n",
    "\n",
    "__Run__ your function `evalParam` to evaluate the three following models : [_linear regression_](https://scikit-learn.org/stable/modules/generated/sklearn.linear_model.LinearRegression.html#sklearn.linear_model.LinearRegression), [_logistic regression_](https://scikit-learn.org/stable/modules/generated/sklearn.linear_model.LogisticRegression.html) and [_K nearest neighbors_](https://scikit-learn.org/stable/modules/generated/sklearn.neighbors.KNeighborsClassifier.html). <br>These models are already implemented in sklearn. <br>\n",
    "\n",
    "**Study** the effect of the following hyperparameters:\n",
    "- `n_neighbors` in KNN (try selected values between 1 and 100),\n",
    "- `weights` in KNN (try both values 'uniform' and 'distance')\n",
    "- `p` in KNN (try euclidean (p=2), manhattan (p=1) and minkowski-100 (more or less equivalent to max-norm))\n",
    "- `C` in logistic regression (try selected values between $10^{-3}$ and $10^3$)</li>\n",
    "\n",
    "\n",
    "<div class=\"alert alert-warning\">\n",
    "    <b>[Question you should ask yourself]</b> (Not graded) Prior to the run, discuss the fitness of each model to answer to our problem. \n",
    "</div> \n",
    "\n",
    "<div class=\"alert alert-warning\">\n",
    "    <b>[Question 3.2]</b> Explain your methodology of model evaluation. More precisely, explain which hyperparameters you tune and the values you test for each of them. Next, provide the best hyperparameters configuration for each of the three models as well as their CV F1 score.\n",
    "</div>\n"
   ]
  },
  {
   "cell_type": "code",
   "execution_count": 31,
   "metadata": {
    "scrolled": false
   },
   "outputs": [
    {
     "name": "stdout",
     "output_type": "stream",
     "text": [
      " \n",
      "{'normalize': False} with score 0.9473\n",
      "{'C': 10} with score 0.9763\n",
      "{'n_neighbors': 5, 'weights': 'distance', 'p': 1} with score 0.9945\n"
     ]
    },
    {
     "data": {
      "text/html": [
       "<style>#sk-container-id-2 {color: black;background-color: white;}#sk-container-id-2 pre{padding: 0;}#sk-container-id-2 div.sk-toggleable {background-color: white;}#sk-container-id-2 label.sk-toggleable__label {cursor: pointer;display: block;width: 100%;margin-bottom: 0;padding: 0.3em;box-sizing: border-box;text-align: center;}#sk-container-id-2 label.sk-toggleable__label-arrow:before {content: \"▸\";float: left;margin-right: 0.25em;color: #696969;}#sk-container-id-2 label.sk-toggleable__label-arrow:hover:before {color: black;}#sk-container-id-2 div.sk-estimator:hover label.sk-toggleable__label-arrow:before {color: black;}#sk-container-id-2 div.sk-toggleable__content {max-height: 0;max-width: 0;overflow: hidden;text-align: left;background-color: #f0f8ff;}#sk-container-id-2 div.sk-toggleable__content pre {margin: 0.2em;color: black;border-radius: 0.25em;background-color: #f0f8ff;}#sk-container-id-2 input.sk-toggleable__control:checked~div.sk-toggleable__content {max-height: 200px;max-width: 100%;overflow: auto;}#sk-container-id-2 input.sk-toggleable__control:checked~label.sk-toggleable__label-arrow:before {content: \"▾\";}#sk-container-id-2 div.sk-estimator input.sk-toggleable__control:checked~label.sk-toggleable__label {background-color: #d4ebff;}#sk-container-id-2 div.sk-label input.sk-toggleable__control:checked~label.sk-toggleable__label {background-color: #d4ebff;}#sk-container-id-2 input.sk-hidden--visually {border: 0;clip: rect(1px 1px 1px 1px);clip: rect(1px, 1px, 1px, 1px);height: 1px;margin: -1px;overflow: hidden;padding: 0;position: absolute;width: 1px;}#sk-container-id-2 div.sk-estimator {font-family: monospace;background-color: #f0f8ff;border: 1px dotted black;border-radius: 0.25em;box-sizing: border-box;margin-bottom: 0.5em;}#sk-container-id-2 div.sk-estimator:hover {background-color: #d4ebff;}#sk-container-id-2 div.sk-parallel-item::after {content: \"\";width: 100%;border-bottom: 1px solid gray;flex-grow: 1;}#sk-container-id-2 div.sk-label:hover label.sk-toggleable__label {background-color: #d4ebff;}#sk-container-id-2 div.sk-serial::before {content: \"\";position: absolute;border-left: 1px solid gray;box-sizing: border-box;top: 0;bottom: 0;left: 50%;z-index: 0;}#sk-container-id-2 div.sk-serial {display: flex;flex-direction: column;align-items: center;background-color: white;padding-right: 0.2em;padding-left: 0.2em;position: relative;}#sk-container-id-2 div.sk-item {position: relative;z-index: 1;}#sk-container-id-2 div.sk-parallel {display: flex;align-items: stretch;justify-content: center;background-color: white;position: relative;}#sk-container-id-2 div.sk-item::before, #sk-container-id-2 div.sk-parallel-item::before {content: \"\";position: absolute;border-left: 1px solid gray;box-sizing: border-box;top: 0;bottom: 0;left: 50%;z-index: -1;}#sk-container-id-2 div.sk-parallel-item {display: flex;flex-direction: column;z-index: 1;position: relative;background-color: white;}#sk-container-id-2 div.sk-parallel-item:first-child::after {align-self: flex-end;width: 50%;}#sk-container-id-2 div.sk-parallel-item:last-child::after {align-self: flex-start;width: 50%;}#sk-container-id-2 div.sk-parallel-item:only-child::after {width: 0;}#sk-container-id-2 div.sk-dashed-wrapped {border: 1px dashed gray;margin: 0 0.4em 0.5em 0.4em;box-sizing: border-box;padding-bottom: 0.4em;background-color: white;}#sk-container-id-2 div.sk-label label {font-family: monospace;font-weight: bold;display: inline-block;line-height: 1.2em;}#sk-container-id-2 div.sk-label-container {text-align: center;}#sk-container-id-2 div.sk-container {/* jupyter's `normalize.less` sets `[hidden] { display: none; }` but bootstrap.min.css set `[hidden] { display: none !important; }` so we also need the `!important` here to be able to override the default hidden behavior on the sphinx rendered scikit-learn.org. See: https://github.com/scikit-learn/scikit-learn/issues/21755 */display: inline-block !important;position: relative;}#sk-container-id-2 div.sk-text-repr-fallback {display: none;}</style><div id=\"sk-container-id-2\" class=\"sk-top-container\"><div class=\"sk-text-repr-fallback\"><pre>KNeighborsClassifier(p=1, weights=&#x27;distance&#x27;)</pre><b>In a Jupyter environment, please rerun this cell to show the HTML representation or trust the notebook. <br />On GitHub, the HTML representation is unable to render, please try loading this page with nbviewer.org.</b></div><div class=\"sk-container\" hidden><div class=\"sk-item\"><div class=\"sk-estimator sk-toggleable\"><input class=\"sk-toggleable__control sk-hidden--visually\" id=\"sk-estimator-id-2\" type=\"checkbox\" checked><label for=\"sk-estimator-id-2\" class=\"sk-toggleable__label sk-toggleable__label-arrow\">KNeighborsClassifier</label><div class=\"sk-toggleable__content\"><pre>KNeighborsClassifier(p=1, weights=&#x27;distance&#x27;)</pre></div></div></div></div></div>"
      ],
      "text/plain": [
       "KNeighborsClassifier(p=1, weights='distance')"
      ]
     },
     "execution_count": 31,
     "metadata": {},
     "output_type": "execute_result"
    }
   ],
   "source": [
    "\"\"\"\n",
    "CELL N°11 : Model selection - tuning the three methods\n",
    "   \n",
    "@pre: evalParam function correctly implemented    \n",
    "@post:  three models (knn, linear and logistic regression) initialized with tuned hyperparameters.\n",
    "        print the best hyperparameters found, as well as their CV F1 scores associated with these hyperparameters.\n",
    "------------------------------------------------------------------------------------------------ \"\"\"\n",
    "\n",
    "from sklearn.linear_model import LinearRegression\n",
    "from sklearn.linear_model import LogisticRegression\n",
    "from sklearn.neighbors import KNeighborsClassifier\n",
    "#############################\n",
    "# Start : \n",
    "#############################\n",
    "\n",
    "# @rewrite\n",
    "linreg = LinearRegression()\n",
    "logisreg = LogisticRegression()\n",
    "knc = KNeighborsClassifier()\n",
    "methods = [linreg, logisreg, knc]\n",
    "paramLR = [{\"normalize\": False}]\n",
    "paramKNN = [{\"n_neighbors\": 5, \"weights\": 'uniform', \"p\": 1}, {\"n_neighbors\": 5, \"weights\": 'uniform', \"p\": 2}, {\"n_neighbors\": 5, \"weights\": 'distance', \"p\": 1}, {\"n_neighbors\": 5, \"weights\": 'distance', \"p\": 2}, \n",
    "            {\"n_neighbors\": 10, \"weights\": 'uniform', \"p\": 1}, {\"n_neighbors\": 10, \"weights\": 'uniform', \"p\": 2}, {\"n_neighbors\": 10, \"weights\": 'distance', \"p\": 1}, {\"n_neighbors\": 10, \"weights\": 'distance', \"p\": 2}]\n",
    "paramLogR = [{\"C\": 0.001}, {\"C\": 0.01}, {\"C\": 0.1}, {\"C\": 1}, {\"C\": 10}, {\"C\": 100}, {\"C\": 1000}]\n",
    "param = [paramLR, paramLogR, paramKNN]\n",
    "cv = 5\n",
    "cv_scores = evalParam(methods, param, X_train, y_binary_train, cv)\n",
    "\n",
    "##########################\n",
    "# End : \n",
    "########################\n",
    "\n",
    "print(' ')\n",
    "\n",
    "\n",
    "#############################\n",
    "# Start : \n",
    "#############################\n",
    "\n",
    "# @toAdapt for linear regression\n",
    "LRbest = list(cv_scores[0]).index(max(cv_scores[0]))\n",
    "print(paramLR[LRbest], \"with score {0:.4f}\".format(cv_scores[0][LRbest]))\n",
    "linreg.set_params(**paramLR[LRbest])\n",
    "\n",
    "LogRbest = list(cv_scores[1]).index(max(cv_scores[1]))\n",
    "print(paramLogR[LogRbest], \"with score {0:.4f}\".format(cv_scores[1][LogRbest]))\n",
    "logisreg.set_params(**paramLogR[LogRbest])\n",
    "\n",
    "KNNbest = list(cv_scores[2]).index(max(cv_scores[2]))\n",
    "print(paramKNN[KNNbest], \"with score {0:.4f}\".format(cv_scores[2][KNNbest]))\n",
    "knc.set_params(**paramKNN[KNNbest])\n",
    "\n",
    "# @toDo for KNN and Logistic regression\n",
    "\n",
    "\n",
    "##########################\n",
    "# End :\n",
    "########################"
   ]
  },
  {
   "cell_type": "markdown",
   "metadata": {},
   "source": [
    "<div class=\"alert alert-warning\">\n",
    "    <b>[Question 3.3]</b> Based on your answers to previous questions, select a final model that you will keep as classifier. Justify.\n",
    "</div> "
   ]
  },
  {
   "cell_type": "markdown",
   "metadata": {},
   "source": [
    "<font size=4 color=#009999> <br> 3.4. Precision, Recall and thresholding </font> <br>\n",
    "\n",
    "In general, the classifying models compute first the probability for a point to belong to a certain class. Next, they applies a threshold to assign the final label (bad or good). By default, `scikit-learn` applies a threshold of 0.5 for KNN and logistic regression. You can use the function `predict_proba` to obtain the original probabilities. <br>\n",
    "For analyzing the impact of the threshold on the precision and recall of a model, we generally plot its precision-recall curve. Specific functions in sklearn help doing that plot (see [sklearn documentation](https://scikit-learn.org/stable/auto_examples/model_selection/plot_precision_recall.html)). <br>\n",
    "Here we only ask you theoretical questions, so we don't expect any plot from you, but feel free to create some for your own reflection and to help you answering correctly.\n",
    "\n",
    "<div class=\"alert alert-warning\">\n",
    "    <b>[Question 3.4]</b> What happens to the precision and recall (of any method) when the threshold tends to 0? And when it tends to 1? Explain and, if possible, establish a link with Question 2.1.\n",
    "</div>\n",
    "\n",
    "<div class=\"alert alert-warning\">\n",
    "    <b>[Question 3.5]</b> \n",
    "    Explain which precision/recall trade-off you prefer to have for the specific task asked in this hackathon: determining whether air quality is good based on some concentrations. How should you adjust the threshold of your model to bring it closer to the desired trade-off? Should it be above or below the default threshold value of 0.5? <br>\n",
    "    <b> Note: </b> In the next section, we will keep considering the default threshold value of 0.5.\n",
    "</div>\n"
   ]
  },
  {
   "cell_type": "code",
   "execution_count": 32,
   "metadata": {},
   "outputs": [
    {
     "data": {
      "image/png": "[encoded data removed]",
      "text/plain": [
       "<Figure size 640x480 with 1 Axes>"
      ]
     },
     "metadata": {},
     "output_type": "display_data"
    }
   ],
   "source": [
    "\"\"\"\n",
    "TEST CELL N°2 : PRECISION-RECALL CURVES\n",
    "   \n",
    "@pre: the three models (knn, linear and logistic regression) initialized with their tuned hyperparameters.  \n",
    "@post: a figure with the precision-recall curves for the three given models and also for a simple baseline classifier, \n",
    "        applied on a validation set containing 10% of the training set.\n",
    "------------------------------------------------------------------------------------------------ \"\"\"\n",
    "\n",
    "from sklearn.metrics import precision_recall_curve\n",
    "from sklearn.metrics import auc\n",
    "from sklearn.model_selection import train_test_split\n",
    "\n",
    "# Validation set to use for the PR curves\n",
    "X_train2, X_val = train_test_split(X_train, test_size=0.1, random_state=42)\n",
    "y_train2, y_val = train_test_split(y_binary_train, test_size=0.1, random_state=42)\n",
    "\n",
    "#############################\n",
    "# Start : just a few lines asked\n",
    "#############################\n",
    "\n",
    "# Training the tuned models\n",
    "linreg.fit(X_train2, y_train2)\n",
    "y_scoreLR = linreg.predict(X_val)\n",
    "\n",
    "# @rewrite (linreg -> logreg, linreg -> knn)\n",
    "logisreg.fit(X_train2, y_train2)\n",
    "y_scoreLogR = logisreg.predict_proba(X_val)[:, 1]\n",
    "\n",
    "knc.fit(X_train2, y_train2)\n",
    "y_scoreKNN = knc.predict_proba(X_val)[:, 1]\n",
    "\n",
    "# Computing the precision, recall and threshold for each model\n",
    "precisionLR, recallLR, thresholdsLR = precision_recall_curve(y_val, y_scoreLR)\n",
    "pr_aucLR = auc(recallLR, precisionLR)\n",
    "\n",
    "precisionLogR, recallLogR, thresholdsLogR = precision_recall_curve(y_val, y_scoreLogR)\n",
    "pr_aucLogR = auc(recallLogR, precisionLogR)\n",
    "\n",
    "precisionKNN, recallKNN, thresholdsKNN = precision_recall_curve(y_val, y_scoreKNN)\n",
    "pr_aucKNN = auc(recallKNN, precisionKNN)\n",
    "\n",
    "# Plotting the precision-recall curves\n",
    "plt.figure()\n",
    "plt.plot(\n",
    "    recallLR,\n",
    "    precisionLR,\n",
    "    color=\"darkorange\",\n",
    "    lw=2,\n",
    "    label=\"LR (area = %0.2f)\" % pr_aucLR,\n",
    ")\n",
    "plt.plot(\n",
    "    recallLogR,\n",
    "    precisionLogR,\n",
    "    color=\"darkgreen\",\n",
    "    lw=2,\n",
    "    label=\"LogR (area = %0.2f)\" % pr_aucLogR,\n",
    ")\n",
    "plt.plot(\n",
    "    recallKNN, precisionKNN, color=\"red\", lw=2, label=\"KNN (area = %0.2f)\" % pr_aucKNN\n",
    ")\n",
    "\n",
    "plt.plot(\n",
    "    [0, 1],\n",
    "    [0.66, 0.66],\n",
    "    color=\"navy\",\n",
    "    lw=2,\n",
    "    linestyle=\"--\",\n",
    "    label=\"constant pred (area = 0.66)\",\n",
    ")\n",
    "plt.xlim([0.0, 1.0])\n",
    "plt.ylim([0.4, 1.05])\n",
    "plt.xlabel(\"Recall\")\n",
    "plt.ylabel(\"Precision\")\n",
    "plt.title(\"Precision - Recall curve\")\n",
    "plt.legend(loc=\"lower right\")\n",
    "plt.show()\n",
    "\n",
    "#########################\n",
    "# End : Only for the TA'\n",
    "########################"
   ]
  },
  {
   "cell_type": "markdown",
   "metadata": {},
   "source": [
    "The code below only serves as a default setting. <br>You have to rewrite the lines below using your selected model ($\\texttt{linreg}, \\texttt{recallKNN}, \\dots$ should be replaced by the right elements of your choice)."
   ]
  },
  {
   "cell_type": "code",
   "execution_count": 33,
   "metadata": {},
   "outputs": [
    {
     "name": "stdout",
     "output_type": "stream",
     "text": [
      "If we use threshold=0.02, we should obtain recall=1.00, precision=0.97 and F1=0.98\n"
     ]
    }
   ],
   "source": [
    "\"\"\"\n",
    "TEST CELL N°3 : THRESHOLDING\n",
    "   \n",
    "@pre:   vectors of thresholds, precision and recall scores used for the PR curve in the previous cell\n",
    "@post:  clf contains your selected classifier.\n",
    "        thresh is your selected threshold  \n",
    "------------------------------------------------------------------------------------------------ \"\"\"\n",
    "\n",
    "\n",
    "clf = knc\n",
    "\n",
    "#############################\n",
    "# Start : Only for the TA's\n",
    "# No code asked to the students\n",
    "#############################\n",
    "\n",
    "# we choose the threshold that gives precision >= 0.9, for the largest recall.\n",
    "idx = np.argmax(recallKNN[precisionKNN >= 0.9])\n",
    "threshold = thresholdsKNN[precisionKNN[0:-1] >= 0.9][idx]\n",
    "idt = np.where(thresholdsKNN == threshold)[0][0]\n",
    "recall_t = recallKNN[idt]\n",
    "precision_t = precisionKNN[idt]\n",
    "F1_t = 2 * (recall_t * precision_t) / (recall_t + precision_t)\n",
    "print(\n",
    "    \"If we use threshold={0:.2f}, we should obtain recall={1:.2f}, precision={2:.2f} and F1={3:.2f}\".format(\n",
    "        threshold, recall_t, precision_t, F1_t\n",
    "    )\n",
    ")\n",
    "\n",
    "#########################\n",
    "# End : Only for the TA'\n",
    "########################"
   ]
  },
  {
   "cell_type": "markdown",
   "metadata": {},
   "source": [
    "<br>\n",
    "\n",
    "<br><font size=7 color=#009999> <b>PART 4 - MODEL TESTING </b> </font> <br><br>\n",
    "\n",
    "<div class=\"alert alert-warning\">\n",
    "    <b>[Question 4.1]</b> Use the test set to estimate the precision, recall and F1 score of your final model and validate its performance on unseen data. <br> Observe if the scores are similar to the ones estimated with your cross-validation.\n",
    "        Are you satisfied by the performance of your classifier, in view of the task for which it will be used?\n",
    "\n",
    "</div> \n"
   ]
  },
  {
   "cell_type": "code",
   "execution_count": 38,
   "metadata": {},
   "outputs": [
    {
     "data": {
      "image/png": "[encoded data removed]",
      "text/plain": [
       "<Figure size 640x480 with 1 Axes>"
      ]
     },
     "metadata": {},
     "output_type": "display_data"
    },
    {
     "name": "stdout",
     "output_type": "stream",
     "text": [
      "Better threshold : [0.53 0.54]\n",
      "--------- For our tuned KNN ---------\n",
      "F1 score: 99.60%\n",
      "Precision function: 99.60%\n",
      "Recall function: 99.61%\n"
     ]
    }
   ],
   "source": [
    "\"\"\"\n",
    "CELL N°10 : MODEL TESTING\n",
    "   \n",
    "@pre:   clf is your selected classifier\n",
    "        X_test is the numpy array containing the test set (with your selected features)\n",
    "        y_test is the numpy array contaning your binary target vector\n",
    "@post:  print the F1, precision and recall on the test set.\n",
    "------------------------------------------------------------------------------------------------ \"\"\"\n",
    "\n",
    "#############################\n",
    "# Start : \n",
    "#############################\n",
    "\n",
    "# @rewrite\n",
    "clf.fit(X_train, y_binary_train)\n",
    "y_pred = clf.predict_proba(X_test)[:, 1]\n",
    "prec_arr = []\n",
    "rec_arr = []\n",
    "F1_arr = []\n",
    "a = np.arange(0, 1, 0.01)\n",
    "for i in a:\n",
    "        prec, rec, F1 = probas_to_F1(y_binary_test, y_pred, \"PRF1\", threshold=i)\n",
    "        prec_arr.append(prec)\n",
    "        rec_arr.append(rec)\n",
    "        F1_arr.append(F1)\n",
    "plt.plot(a, prec_arr, label=\"Precision\")\n",
    "plt.plot(a, rec_arr, label=\"Recall\")\n",
    "plt.plot(a, F1_arr, label=\"F1\")\n",
    "plt.xlabel(\"Threshold\")\n",
    "plt.ylabel(\"[Precision, Recall, F1]\")\n",
    "plt.legend()\n",
    "plt.show()\n",
    "# find intersection of the 3 curves\n",
    "idx = np.argwhere(np.diff(np.sign(np.array(prec_arr) - np.array(rec_arr)))).flatten()\n",
    "print(\"Better threshold :\", a[idx])\n",
    "# prints\n",
    "prec, rec, F1 = probas_to_F1(y_binary_test, y_pred, \"PRF1\", threshold=a[idx][0])\n",
    "print(\"--------- For our tuned KNN ---------\")\n",
    "print(f\"F1 score: {F1:2.2%}\")\n",
    "print(f\"Precision function: {prec:2.2%}\")\n",
    "print(f\"Recall function: {rec:2.2%}\")\n",
    "\n",
    "##########################\n",
    "# End : \n",
    "########################"
   ]
  },
  {
   "cell_type": "code",
   "execution_count": null,
   "id": "f18c6921",
   "metadata": {},
   "outputs": [],
   "source": []
  }
 ],
 "metadata": {
  "kernelspec": {
   "display_name": "Python 3.9.2 64-bit",
   "language": "python",
   "name": "python3"
  },
  "language_info": {
   "codemirror_mode": {
    "name": "ipython",
    "version": 3
   },
   "file_extension": ".py",
   "mimetype": "text/x-python",
   "name": "python",
   "nbconvert_exporter": "python",
   "pygments_lexer": "ipython3",
   "version": "3.9.2"
  },
  "vscode": {
   "interpreter": {
    "hash": "3e24519b0ba229a6f9a71f39c1cb5a8bdc9138e2d11e58c1de9e81a631b04fde"
   }
  }
 },
 "nbformat": 4,
 "nbformat_minor": 5
}
