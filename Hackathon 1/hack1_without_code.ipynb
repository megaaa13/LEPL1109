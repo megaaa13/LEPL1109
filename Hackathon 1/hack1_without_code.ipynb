{
 "cells": [
  {
   "cell_type": "markdown",
   "metadata": {},
   "source": [
    "# Hackathon 1: descriptive statistics, estimation and bootstrapping\n",
    "\n",
    "This project illustrates the course LEPL1109 with an industrial applications of statistics. You will analyse the performance of wind farms located in the Walloon Brabant near Beauvechain and in the high Fens, close to Elsenborn. Each wind farm exploits 8 wind turbines. The kinetic power, noted Pk, (in watt) of one wind turbine is calculated with the formula \n",
    "\n",
    "Pk (W) = 0.5 x Rho x S x V^3\n",
    "\n",
    "Where \n",
    "\n",
    "S   : is the surface of the circle in square meters with a radius equal to the length of blades (32 m).\n",
    "Rho : is the air density (“masse volumique”). We consider here an average value of 1.2 kg/m^3\n",
    "V   : is the speed of wind in m/s.\n",
    "\n",
    "According to the Betz limit, only 59.3% of the kinetic energy from wind can be used to spin the turbine and generate electricity. In reality, turbines cannot reach the Betz limit, and the efficiency is estimated to 42% of the kinetic power. One wind turbine generates an electric power Pe = 0.42 x Pk. \n",
    "\n",
    "The wind turbins are stopped if the wind speed is above 90 km/h.\n",
    "\n",
    "The file “BeauvechainWind.csv” and “Elsenborn.csv” contains the average daily wind speeds, measured in km/h, at Beauvechain and  Elsenborn (source www. https://www.ecad.eu/)\n",
    "\n",
    "FILE FORMAT (MISSING VALUE CODE IS -9999):\n",
    "01-06 SOUID: Source identifier\n",
    "08-15 DATE : Date YYYYMMDD\n",
    "17-21 FG   : wind speed in 0.1 m/s\n",
    "23-27 Q_FG : Quality code for FG (0='valid'; 1='suspect'; 9='missing')\n",
    "\n",
    "\n",
    "## Report content\n",
    "\n",
    "•\tGrades are granted to the members whose names are in the Jupyter notebook. If your name doesn’t appear on the top of the notebook, you’ll get a 0, even though you are in a group on Moodle.\n",
    "\n",
    "•\tThe jupyter notebook must be compiled with printed results and next submitted via moodle. The absence of compiled results (or non-printed values) leads to a lower grade.\n",
    "\n",
    "## Report submission\n",
    "\n",
    "•\tDeadline, see moodle website. Submission after the deadline will not be accepted.\n",
    "\n",
    "•\tTo submit your report, go to the section “APP” on Moodle and the subsection “Soumission du rapport”. You can upload your work there. Once you are sure that it is your final version, click the button “Envoyer le devoir”. It is important that you don’t forget to click on this button ! \n",
    "\n",
    "•\tReports that have not been uploaded through Moodle will not be corrected.\n",
    "\n",
    "\n",
    "## Names and Noma of participants:\n",
    "\n",
    "Part. 1: Martin Gyselinck 19282000\n",
    "\n",
    "Part. 2: Ysaline Paque 18802000\n",
    "\n",
    "Part. 3: Isaline Deckers 21172000\n",
    "\n",
    "Part. 4: Camille D'Hont 21012000\n",
    "\n",
    "Part. 5: Jean de Briey 37941700\n",
    "\n",
    "Part. 6: Guillaume Spronck 48131900\n"
   ]
  },
  {
   "cell_type": "markdown",
   "metadata": {},
   "source": [
    "------------------------------------------------------------------------------------------------------\n",
    "1.\tWrite a function computing the electric power capacity (in Mega Watts = 10^6 W), for the two wind farms using wind data from the 1/1/2017 to the 1/1/2021\n",
    "\n",
    "•\tDo not forget to set the production to zero if the wind speed is above 90 km. \n",
    "\n",
    "•\tTake care to converts units.\n",
    "\n",
    "•\tRemove all days with missing data (error code 1 or 9) for Beauvechain or Elsenborn\n",
    "\n",
    "------------------------------------------------------------------------------------------------------"
   ]
  },
  {
   "cell_type": "code",
   "execution_count": null,
   "metadata": {},
   "outputs": [],
   "source": [
    "import pandas as pd\n",
    "import numpy as np\n",
    "import math \n",
    "\n",
    "data_bea = pd.read_csv(\"Beauvechain.csv\", skipinitialspace=True)\n",
    "data_els = pd.read_csv(\"Elsenborn.csv\", skipinitialspace=True)\n",
    "\n",
    "df1 = pd.DataFrame(data_bea)\n",
    "df2 = pd.DataFrame(data_els)\n",
    "\n",
    "#remove date before 01/01/2017 and after 01/01/2021\n",
    "df1 = df1[df1.get('DATE') > 20170000]\n",
    "df2 = df2[df2.get('DATE') > 20170000]\n",
    "df1 = df1[df1.get('DATE') < 20210102]\n",
    "df2 = df2[df2.get('DATE') < 20210102]\n",
    "\n",
    "#remove error code and dates that are not in the 2 farms\n",
    "df1 = df1.reset_index(drop=True)\n",
    "df2 = df2.reset_index(drop=True)\n",
    "\n",
    "index = (df1.get('Q_FG') == 0) & (df2.get('Q_FG') == 0)\n",
    "df1 = df1[index]\n",
    "df2 = df2[index]\n",
    "\n",
    "#take speed in km/h as input and return electric power for 8 wind turbines in MegaWatts\n",
    "def electrical_power(speed):\n",
    "    if(speed >= 90):\n",
    "        return 0\n",
    "    pk = 0.5*1.2*math.pi*32*32*(speed/3.6)**3 # of 1 wind turbine\n",
    "    pe = 0.42*pk\n",
    "    return pe*8/10**6\n",
    "\n",
    "#make arrays of speed\n",
    "bea_array = df1[df1.columns[2]].to_numpy()\n",
    "els_array = df2[df2.columns[2]].to_numpy()\n",
    "\n",
    "#compute power for each speed\n",
    "bea_array = np.array(list(map(electrical_power, bea_array)))\n",
    "els_array = np.array(list(map(electrical_power, els_array)))\n",
    "\n"
   ]
  },
  {
   "cell_type": "markdown",
   "metadata": {},
   "source": [
    "In order to be able to use the data in the .csv document easily, we create data frames with the pandas library. We obtain two two-dimensional tables containing all the data from each of the wind farms. Then we delete all the data from the tables that is not between 01/01/2017 and 01/01/2021 (included). We also delete the data that is not usable either because the data is missing for one or the other wind farm or because the data is inconsistent (error code 1 or 9).\n",
    "\n",
    "The electrical_power function calculates the electricity generation capacity (in [MW]) of each wind farm by first calculating the kinetic power, found by the formula: Pk [W] = 0.5 x Rho x S x V<sup>3</sup>, where:\n",
    "\n",
    "- Density ρ (rhô) = 1.2 [kg/m<sup>3</sup>].\n",
    "- The surface area S of the circle formed by the wind turbine blades: $\\pi*32*32$ [m<sup>3</sup>]\n",
    "- The wind speed V in [m/s]. In our tables, the speed is given in [km/h] so we multiply the speeds by (1000/3600) to give them in [m/s].\n",
    "\n",
    "Then we can find the electricity production capacity of each wind farm with the formula: Pe = 0.42 x Pk, where\n",
    "- 0.42: the estimated efficiency of the wind kinetic energy converted into electricity by the wind turbine.\n",
    "- Pk [W]: the kinetic power calculated above.\n",
    "The output of the wind turbines is set to zero if the wind speed (in [km/h]), at that time, is higher than 90km/h. And finally we return the Pe multiplied by 8 (the number of turbines in each wind farm) and divided by 10^6 to get the electricity production in [MW] instead of [W]."
   ]
  },
  {
   "cell_type": "markdown",
   "metadata": {},
   "source": [
    "------------------------------------------------------------------------------------------------------------------------\n",
    "\n",
    "2.\tPlot histograms and box plots of electric power capacity (MW) from the 1/1/2017 to the 1/1/2021 (both sites). \n",
    "\n",
    "------------------------------------------------------------------------------------------------------------------------"
   ]
  },
  {
   "cell_type": "code",
   "execution_count": null,
   "metadata": {},
   "outputs": [],
   "source": [
    "import matplotlib.pyplot as plt\n",
    "\n",
    "plt.hist([bea_array, els_array], bins=20, color = ['blue', 'green'], linewidth=0.5, density=True, rwidth=0.8)\n",
    "plt.legend([\"Beauvechain\", \"Elsenborn\"])\n",
    "plt.grid(True)\n",
    "plt.title('Electrical power capacity in Beauvechain and Elsenborn') \n",
    "plt.xlabel('Electrical power [MW]') \n",
    "plt.ylabel('Density [/]')\n",
    "plt.show()\n",
    "\n",
    "pd.DataFrame({\"Beauvechain\" : bea_array, \"Elsenborn\" : els_array}).plot(kind=\"box\")\n",
    "plt.grid(True)\n",
    "plt.ylabel('Electrical power [MW]') \n",
    "plt.title('Electrical power capacity in Beauvechain and Elsenborn')\n",
    "plt.show()"
   ]
  },
  {
   "cell_type": "markdown",
   "metadata": {},
   "source": [
    "The histogram we made represents the electricity production capacity [MW] for each of the wind farms. For both the wind farms we can see that the electricity production is more often between 0 and 20 [MW] than between 20 and 100 [MW].\n",
    "\n",
    "The boxplots show that the standard deviation in Beauvechain is much larger than in Elsenborn, and therefore the data tends to be more clustered than in the other wind farm."
   ]
  },
  {
   "cell_type": "markdown",
   "metadata": {},
   "source": [
    "------------------------------------------------------------------------------------------------------\n",
    "\n",
    "3.\tCompare the following statistics of both sites and draw a first conclusions\n",
    "\n",
    "•\tAverage and median powers for each farm (MW)\n",
    "\n",
    "•\tStandard deviations of powers, for each farm (MW)\n",
    "\n",
    "•\t5% and 95% percentiles of powers, for each farm (MW)\n",
    "\n",
    "The average and standard deviation of the total power capacities (Beauvechain + Elsenborn).\n",
    "\n",
    "------------------------------------------------------------------------------------------------------"
   ]
  },
  {
   "cell_type": "code",
   "execution_count": null,
   "metadata": {},
   "outputs": [],
   "source": [
    "# Code here\n",
    "av1 = np.mean(bea_array)\n",
    "med1 = np.median(bea_array)\n",
    "std1 = np.std(bea_array)\n",
    "perc1_5 = np.percentile(bea_array, 5)\n",
    "perc1_95 = np.percentile(bea_array, 95)\n",
    "\n",
    "av2 = np.mean(els_array)\n",
    "med2 = np.median(els_array)\n",
    "std2 = np.std(els_array)\n",
    "perc2_5 = np.percentile(els_array, 5)\n",
    "perc2_95 = np.percentile(els_array, 95)\n",
    "\n",
    "tot_array = bea_array + els_array\n",
    "av = np.mean(tot_array)\n",
    "std = np.std(tot_array)\n",
    "print(f\"AVERAGE : Beauvechain : {av1:.6f}, Elsenborn : {av2:.6f}\")\n",
    "print(f\"MEDIAN  : Beauvechain : {med1:.6f},  Elsenborn : {med2:.6f}\")\n",
    "print(f\"STANDARD DEVIATION : Beauvechain : {std1:.6f}, Elsenborn : {std2:.6f}\")\n",
    "print(f\"5th PERCENTILE  : Beauvechain : {perc1_5:.6f},  Elsenborn : {perc2_5:.6f}\")\n",
    "print(f\"95th PERCENTILE : Beauvechain : {perc1_95:.6f}, Elsenborn : {perc2_95:.6f}\")\n",
    "print(\"\")\n",
    "print(f\"TOTAL AVERAGE : {av:.6f}\")\n",
    "print(f\"TOTAL STANDARD DEVIATION : {std:.6f}\")\n"
   ]
  },
  {
   "cell_type": "markdown",
   "metadata": {},
   "source": [
    "The average and the median in Beauvechain, over the 4 years of data, are higher than the ones of Elsenborn.\n",
    "Although Beauvechain produces more energy on average, Elsenborn is more \"constant\", which makes it easier to theorise about the energy produced.\n",
    "\n",
    "The percentiles allow us to see what quantities of electricity can be expected in the worst and best cases. It can be seen that Elsenborn has only a very small chance (5%) of producing more than 25 [KW] of electricity, whereas Beauvechain has the same chance of producing 2.33 times more. The same difference can be seen for the 5th percentile."
   ]
  },
  {
   "cell_type": "markdown",
   "metadata": {},
   "source": [
    "\n",
    "------------------------------------------------------------------------------------------------------\n",
    "4.\tFit Gamma and Inverse Gaussian distributions to wind speeds (in Km/h) in Beauvechain and Elsenborn. Estimate their parameters by log-likelihood maximization (MLE). Which distribution is the best one? Compare the histograms of winds with the fitted pdf’s on the same plot.\n",
    "------------------------------------------------------------------------------------------------------"
   ]
  },
  {
   "cell_type": "code",
   "execution_count": null,
   "metadata": {},
   "outputs": [],
   "source": [
    "# Gamma Distribution\n",
    "import scipy.stats as sc\n",
    "\n",
    "a_g1, loc_g1, scale_g1 = sc.gamma.fit(df1[\"FG\"])\n",
    "x = np.arange(df1[\"FG\"].max() + 1)\n",
    "gamma1 = sc.gamma.pdf(x, a=a_g1, loc=loc_g1, scale=scale_g1)\n",
    "\n",
    "loggamma1 = sc.gamma.logpdf(df1[\"FG\"], a=a_g1, loc=loc_g1, scale=scale_g1).sum()\n",
    "print(f\"Beauvechain gamma: a = {a_g1:.6f}, loc = {loc_g1:.6f}, scale = {scale_g1:.6f}, log-likelihood = {loggamma1:.6f}\")\n",
    "a_g2, loc_g2, scale_g2 = sc.gamma.fit(df2[\"FG\"])\n",
    "x = np.arange(df2[\"FG\"].max() + 1)\n",
    "gamma2 = sc.gamma.pdf(x, a=a_g2, loc=loc_g2, scale=scale_g2)\n",
    "loggamma2 = sc.gamma.logpdf(df2[\"FG\"], a=a_g2, loc=loc_g2, scale=scale_g2).sum()\n",
    "print(f\"Elsenborn gamma:   a = {a_g1:.6f}, loc = {loc_g2:.6f}, scale = {scale_g2:.6f}, log-likelihood = {loggamma2:.6f}\")"
   ]
  },
  {
   "cell_type": "markdown",
   "metadata": {},
   "source": [
    "With the `sc.gamma.fit` function, we estimate by the maximum likelihood estimator method \n",
    "the parameters of the gamma distribution (a, loc and scale) that are the best fit to the collected data, for each wind farm."
   ]
  },
  {
   "cell_type": "code",
   "execution_count": null,
   "metadata": {},
   "outputs": [],
   "source": [
    "# Inverse Gaussienne\n",
    "import scipy.stats as sc\n",
    "mu_i1, loc_i1, scale_i1 = sc.invgauss.fit(df1[\"FG\"])\n",
    "x = np.arange(df1[\"FG\"].max() + 1)\n",
    "gaussian1 = sc.invgauss.pdf(x, mu=mu_i1, loc=loc_i1, scale=scale_i1)\n",
    "loggaussian1 = sc.invgauss.logpdf(df1[\"FG\"], mu=mu_i1, loc=loc_i1, scale=scale_i1).sum()\n",
    "print(f\"Beauvechain gaussian: mu = {mu_i1:.6f}, loc = {loc_i1:.6f}, scale = {scale_i1:.6f}, log-likelihood = {loggaussian1:.6f}\")\n",
    "\n",
    "mu_i2, loc_i2, scale_i2 = sc.invgauss.fit(df2[\"FG\"])\n",
    "x = np.arange(df2[\"FG\"].max() + 1)\n",
    "gaussian2 = sc.invgauss.pdf(x, mu=mu_i2, loc=loc_i2, scale=scale_i2)\n",
    "loggaussian2 = sc.invgauss.logpdf(df2[\"FG\"], mu=mu_i2, loc=loc_i2, scale=scale_i2).sum()\n",
    "print(f\"Elsenborn gaussian:   mu = {mu_i2:.6f}, loc = {loc_i2:.6f}, scale = {scale_i2:.6f}, log-likelihood = {loggaussian2:.6f}\")"
   ]
  },
  {
   "cell_type": "markdown",
   "metadata": {},
   "source": [
    "We estimate by the maximum likelihood estimator method the coefficients (mu, loc and scale) of the Gaussian distribution that are the best fit to our data."
   ]
  },
  {
   "cell_type": "code",
   "execution_count": null,
   "metadata": {},
   "outputs": [],
   "source": [
    "#Comparison of the two pdf :\n",
    "fig, plots = plt.subplots(1, 2)\n",
    "fig.set_size_inches(10, 6)\n",
    "plots[0].set_title(\"Beauvechain\")\n",
    "plots[1].set_title(\"Elsenborn\")\n",
    "plots[0].plot(np.arange(df1[\"FG\"].max() + 1), gamma1, label=\"Gamma fit\")\n",
    "plots[0].plot(np.arange(df1[\"FG\"].max() + 1), gaussian1, label=\"Inverse Gaussian fit\")\n",
    "plots[0].grid(True)\n",
    "plots[0].hist(df1[\"FG\"], bins=30, facecolor = '#2ab0ff', edgecolor='#169acf', linewidth=0.5, density=True)\n",
    "plots[0].legend()\n",
    "\n",
    "plots[1].plot(np.arange(df2[\"FG\"].max() + 1), gamma2, label=\"Gamma fit\")\n",
    "plots[1].plot(np.arange(df2[\"FG\"].max() + 1), gaussian2, label=\"Inverse Gaussian fit\")\n",
    "plots[1].grid(True)\n",
    "plots[1].hist(df2[\"FG\"], bins=30, facecolor = '#2ab0ff', edgecolor='#169acf', linewidth=0.5, density=True)\n",
    "plots[1].legend()\n",
    "\n",
    "plt.show()\n",
    "\n",
    "print(f\"Beauvechain:  log-likelihood gamma = {loggamma1:.6f}, log-likelihood gaussian = {loggaussian1}\")\n",
    "print(f\"Elsenborn:    log-likelihood gamma = {loggamma2:.6f}, log-likelihood gaussian = {loggaussian2}\")"
   ]
  },
  {
   "cell_type": "markdown",
   "metadata": {},
   "source": [
    "For both wind farms, the log-likelihood of the gamma distribution is higher than the one of the inverse Gaussian distribution.\n",
    "It can therefore be concluded that for this case the gamma distribution is more suitable."
   ]
  },
  {
   "cell_type": "markdown",
   "metadata": {},
   "source": [
    "------------------------------------------------------------------------------------------------------\n",
    "5.\tCompute numerically for both sites, the following statistics\n",
    "\n",
    "•\tExpected and median powers for each farm (MW)\n",
    "\n",
    "•\tStandard deviation of powers for each farm (MW)\n",
    "\n",
    "•\t5% and 95% percentiles of powers for each farm (MW)\n",
    "\n",
    "Use the best distributions fitted in Question 4 (not observed values)\n",
    "\n",
    "------------------------------------------------------------------------------------------------------"
   ]
  },
  {
   "cell_type": "code",
   "execution_count": null,
   "metadata": {},
   "outputs": [],
   "source": [
    "num_array_1 = sc.gamma.rvs(a=a_g1,loc=loc_g1,scale=scale_g1, size=1000000)\n",
    "num_array_2 = sc.gamma.rvs(a=a_g2,loc=loc_g2,scale=scale_g2, size=1000000)\n",
    "\n",
    "#compute power for each speed\n",
    "num_array_1 = np.array(list(map(electrical_power, num_array_1)))\n",
    "num_array_2 = np.array(list(map(electrical_power, num_array_2)))\n",
    "\n",
    "expected_1 = sc.gamma.expect(lambda x: electrical_power(x), args=[a_g1], loc=loc_g1, scale=scale_g1)\n",
    "expected_2 = sc.gamma.expect(lambda x: electrical_power(x), args=[a_g2], loc=loc_g2, scale=scale_g2)\n",
    "\n",
    "num_med1 = np.median(num_array_1)\n",
    "num_std1 = np.std(num_array_1)\n",
    "num_perc1_5 = np.percentile(num_array_1, 5)\n",
    "num_perc1_95 = np.percentile(num_array_1, 95)\n",
    "\n",
    "num_med2 = np.median(num_array_2)\n",
    "num_std2 = np.std(num_array_2)\n",
    "num_perc2_5 = np.percentile(num_array_2, 5)\n",
    "num_perc2_95 = np.percentile(num_array_2, 95)\n",
    "\n",
    "print(f\"EXPECTED : Beauvechain : {expected_1:.6f}, Elsenborn : {expected_2:.6f}\")\n",
    "print(f\"MEDIAN :   Beauvechain : {num_med1:.6f}, Elsenborn : {num_med2:.6f}\")\n",
    "print(f\"STANDARD DEVIATION : Beauvechain : {num_std1:.6f}, Elsenborn : {num_std2:.6f}\")\n",
    "print(f\"5th PERCENTILE     : Beauvechain : {num_perc1_5:.6f}, Elsenborn : {num_perc2_5:.6f}\")\n",
    "print(f\"95th PERCENTILE    : Beauvechain : {num_perc1_95:.6f}, Elsenborn : {num_perc2_95:.6f}\")\n",
    "\n"
   ]
  },
  {
   "cell_type": "markdown",
   "metadata": {},
   "source": [
    "First, we compute the expected value of the gamma distribution of both sites. Then, we need to create \"new values\" than we made with the `sc.gamma.rvs`, with these, we compute the median, the standard deviation and the 5th and 95th percentiles with the appropriate methods."
   ]
  },
  {
   "cell_type": "markdown",
   "metadata": {},
   "source": [
    "------------------------------------------------------------------------------------------------------\n",
    "\n",
    "6.\tSame question as Q.4 but this time, you fit the best distribution by the methods of moments MM, (in Python). Compare parameter estimates and plot pdf’s obtained by MLE and MM for both wind farms.\n",
    "\n",
    "------------------------------------------------------------------------------------------------------"
   ]
  },
  {
   "cell_type": "code",
   "execution_count": null,
   "metadata": {
    "scrolled": true
   },
   "outputs": [],
   "source": [
    "#code here\n",
    "import scipy.stats as sc\n",
    "\n",
    "x1 = np.arange(df1[\"FG\"].max() + 1)\n",
    "x2 = np.arange(df2[\"FG\"].max() + 1)\n",
    "\n",
    "a_g1mm, loc_g1mm, scale_g1mm = sc.gamma.fit(df1[\"FG\"], method=\"MM\")\n",
    "gamma1MM = sc.gamma.pdf(x1, a=a_g1mm, loc=loc_g1mm, scale=scale_g1mm)\n",
    "loggamma1mm = sc.gamma.logpdf(df1[\"FG\"], a=a_g1mm, loc=loc_g1mm, scale=scale_g1mm).sum()\n",
    "\n",
    "a_g2mm, loc_g2mm, scale_g2mm = sc.gamma.fit(df2[\"FG\"], method=\"MM\")\n",
    "gamma2MM = sc.gamma.pdf(x2, a=a_g2mm, loc=loc_g2mm, scale=scale_g2mm)\n",
    "loggamma2mm = sc.gamma.logpdf(df2[\"FG\"], a=a_g2mm, loc=loc_g2mm, scale=scale_g2mm).sum()\n",
    "\n",
    "fig, plots = plt.subplots(1, 2)\n",
    "fig.set_size_inches(10, 6)\n",
    "plots[0].set_title(\"Beauvechain\")\n",
    "plots[0].plot(x1, gamma1MM, label=\"method = MM\")\n",
    "plots[0].plot(x1, gamma1, label=\"method = MLE\")\n",
    "plots[0].grid(True)\n",
    "plots[0].hist(df1[\"FG\"], bins=30, facecolor = '#2ab0ff', edgecolor='#169acf', linewidth=0.5, density=True)\n",
    "plots[0].legend()\n",
    "\n",
    "plots[1].set_title(\"Elsenborn\")\n",
    "plots[1].plot(x2, gamma2MM, label=\"method = MM\")\n",
    "plots[1].plot(x2, gamma2, label=\"method = MLE\")\n",
    "plots[1].grid(True)\n",
    "plots[1].hist(df2[\"FG\"], bins=30, facecolor = '#2ab0ff', edgecolor='#169acf', linewidth=0.5, density=True)\n",
    "plots[1].legend()\n",
    "\n",
    "plt.show()\n",
    "\n",
    "print(f\"Beauvechain gamma (method = MLE): a = {a_g1:.6f}, loc = {loc_g1:.6f}, scale = {scale_g1:.6f}, log-likelihood = {loggamma1:.6f}\")\n",
    "print(f\"Elsenborn gamma   (method = MLE): a = {a_g1:.6f}, loc = {loc_g2:.6f}, scale = {scale_g2:.6f}, log-likelihood = {loggamma2:.6f}\")\n",
    "print(f\"Beauvechain gamma (method = MM): a = {a_g1mm:.6f}, loc = {loc_g1mm:.6f}, scale = {scale_g1mm:.6f}, log-likelihood = {loggamma1mm:.6f}\")\n",
    "print(f\"Elsenborn gamma   (method = MM): a = {a_g2mm:.6f}, loc = {loc_g2mm:.6f}, scale = {scale_g2mm:.6f}, log-likelihood = {loggamma2mm:.6f}\")"
   ]
  },
  {
   "cell_type": "markdown",
   "metadata": {},
   "source": [
    "Thanks to the graphs and the log-likelihood, we can see that there is no point in using the method of moments in this case, as it leads to a poorer approximation of the gamma."
   ]
  },
  {
   "cell_type": "markdown",
   "metadata": {},
   "source": [
    "------------------------------------------------------------------------------------------------------\n",
    "\n",
    "7.\tBootstrap 1000 times a sample of 500 daily speeds of wind for both wind farms and compute a 5% confidence interval for parameter(s) estimates for the best distribution of Question 4) modelling winds in Beauvechain. How do you interpret the results\n",
    "\n",
    "------------------------------------------------------------------------------------------------------"
   ]
  },
  {
   "cell_type": "code",
   "execution_count": null,
   "metadata": {},
   "outputs": [],
   "source": [
    "from cProfile import label\n",
    "import random as rn\n",
    "\n",
    "data = df1[\"FG\"].values\n",
    "a = np.zeros((1000, 1))\n",
    "loc = np.zeros((1000,1))\n",
    "scale = np.zeros((1000, 1))\n",
    "\n",
    "for m in range(0, 1000):\n",
    "    datm = rn.choices(population=data, k=500)\n",
    "    a[m], loc[m], scale[m] = sc.gamma.fit(data=datm)\n",
    "\n",
    "amean = np.mean(a)\n",
    "locmean = np.mean(loc)\n",
    "scalemean = np.mean(scale)\n",
    "print(\"Mean of a :\", amean)\n",
    "print(\"Mean of loc :\", locmean)\n",
    "print(\"Mean of scale :\", scalemean)\n",
    "\n",
    "conf_int_gam = sc.gamma.interval(0.95, amean, locmean, scalemean)\n",
    "print(f\"Confidence Interval : {conf_int_gam}\")\n",
    "\n",
    "plt.hist(df1['FG'], bins=30, density=True)\n",
    "plt.axvline(conf_int_gam[0], color='red', label=\"Confidence Interval\")\n",
    "plt.axvline(conf_int_gam[1], color='red')\n",
    "# plt.xlabel('beta estimator')\n",
    "plt.ylabel('Probability')\n",
    "plt.plot(x1, sc.gamma.pdf(x1, a=amean, loc=locmean, scale=scalemean), label = \"Gamma distribution of bootstrap\")\n",
    "plt.title(\"Gamma distribution with 5% interval confidence\")\n",
    "plt.xlabel(\"Beta (scale)\")\n",
    "plt.grid(True)\n",
    "plt.legend()\n",
    "plt.show()"
   ]
  },
  {
   "cell_type": "markdown",
   "metadata": {},
   "source": [
    "We bootstrapped 1000 different samples, each with 500 variables, from our database and applied the gamma.fit (best distribution found in question 4) function to each of these samples.\n",
    "With the gamma.fit function we find three different parameters per sample (a, loc and scale). We stored all these parameters in three different arrays.\n",
    "For each of these 3 arrays we took the average and obtained amean, locmean and scalemean. Thanks to these three mean values we can calculate the 95% confidence interval using the gamma.interval() function.\n",
    "\n",
    "The bootstrap produces a pdf whose parameters are very close to those found by analysing all values, except for the percentiles which are much smaller/larger.\n",
    "We can deduce that a bootstrap allows us to obtain a more precise value of the parameters, thanks to the principle of resampling with discount, allowing us to simulate a larger sample than the real one."
   ]
  },
  {
   "cell_type": "markdown",
   "metadata": {},
   "source": [
    "------------------------------------------------------------------------------------------------------\n",
    "\n",
    "8.\tLet us denote by X the wind speed observed at Beauvechain on a day of the year. The winds observed over 30 days are denoted by (X1,…,X30). They are realizations of X, a random variable with the distribution fitted in Question 4. If M=max{ X1,…,X30},\n",
    "\n",
    "•\tfind the statistical law of M (equation requested, hint use the cdf of X) \n",
    "\n",
    "•\tplot the pdf and cdf of M. \n",
    "\n",
    "•\tDetermine the wind value, p5, such that  P(M>p5)=95%.\n",
    "\n",
    "\n",
    "------------------------------------------------------------------------------------------------------"
   ]
  },
  {
   "cell_type": "code",
   "execution_count": null,
   "metadata": {},
   "outputs": [],
   "source": [
    "class aNewRandomDistribution(sc.rv_continuous):\n",
    "    def _cdf(self, base, *args):\n",
    "        return np.power(sc.gamma.cdf(base, a=a_g1, loc=loc_g1, scale=scale_g1), 30)\n",
    "distrib = aNewRandomDistribution()\n",
    "\n",
    "x = np.arange(0, 200, 0.01)\n",
    "fig1, plots = plt.subplots(1, 2)\n",
    "fig1.set_size_inches(10, 6)\n",
    "plots[0].plot(x, distrib.cdf(x), label=\"CDF\")\n",
    "plots[1].plot(x, distrib.pdf(x), label=\"PDF\")\n",
    "plt.show()\n",
    "\n",
    "print(\"P(M>p5)=95% with p5 = \", distrib.ppf(0.05))"
   ]
  },
  {
   "cell_type": "markdown",
   "metadata": {},
   "source": [
    "We have taken advantage of the `scipy.stats` library, which allows us to create our own random variable as soon as we provide it the cdf.\n",
    "The cdf can be obtained analytically via the probability that the element M is greater than all the elements in the set:\n",
    "$$\\prod_{i=1}^{30} P(M \\geq X_{i}) = (P(M \\geq X_{i}))^{30}$$\n",
    "The value of $P(M \\geq X_{i})$ corresponding to the cdf of the gamma distribution of Q4, it is enough to replace it to find the cdf of our new random variable.\n",
    "The pdf is easily obtained by deriving the cdf, and is equals to $30*(cdf\\_gammaQ4)^{29}*pdf\\_gammaQ4$, but is not necessary to create the random variable.\n",
    "\n",
    "Link to the documentation used to make the class : https://docs.scipy.org/doc/scipy/reference/generated/scipy.stats.rv_continuous.html\n"
   ]
  }
 ],
 "metadata": {
  "kernelspec": {
   "display_name": "Python 3",
   "language": "python",
   "name": "python3"
  },
  "language_info": {
   "codemirror_mode": {
    "name": "ipython",
    "version": 3
   },
   "file_extension": ".py",
   "mimetype": "text/x-python",
   "name": "python",
   "nbconvert_exporter": "python",
   "pygments_lexer": "ipython3",
   "version": "3.8.5"
  },
  "vscode": {
   "interpreter": {
    "hash": "916dbcbb3f70747c44a77c7bcd40155683ae19c65e1c03b4aa3499c5328201f1"
   }
  }
 },
 "nbformat": 4,
 "nbformat_minor": 4
}
